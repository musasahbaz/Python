{
  "cells": [
    {
      "cell_type": "markdown",
      "metadata": {},
      "source": [
        "### While Döngüsü Kullanımı"
      ]
    },
    {
      "cell_type": "markdown",
      "metadata": {},
      "source": [
        "##### Sosnuz döngüye girecek"
      ]
    },
    {
      "cell_type": "code",
      "execution_count": null,
      "metadata": {
        "trusted": true
      },
      "outputs": [],
      "source": [
        "a = 1\n",
        "while a == 1:\n",
        "    print(\"bilgisayar çıldırdı!\")\n",
        "    "
      ]
    },
    {
      "cell_type": "markdown",
      "metadata": {},
      "source": [
        "##### Sosnuz döngüye girecek yine"
      ]
    },
    {
      "cell_type": "code",
      "execution_count": null,
      "metadata": {
        "trusted": true
      },
      "outputs": [],
      "source": [
        "\n",
        "a = 1\n",
        "while a < 10:\n",
        "    print(a)\n",
        "    "
      ]
    },
    {
      "cell_type": "markdown",
      "metadata": {},
      "source": [
        "1'den 9'a kadar sayılar yazılacak"
      ]
    },
    {
      "cell_type": "code",
      "execution_count": 2,
      "metadata": {
        "trusted": true
      },
      "outputs": [
        {
          "name": "stdout",
          "output_type": "stream",
          "text": [
            "1\n",
            "2\n",
            "3\n",
            "4\n",
            "5\n",
            "6\n",
            "7\n",
            "8\n",
            "9\n"
          ]
        }
      ],
      "source": [
        "a = 1\n",
        "while a < 10:\n",
        "    print(a)\n",
        "    a += 1"
      ]
    },
    {
      "cell_type": "markdown",
      "metadata": {
        "trusted": true
      },
      "source": [
        "10'ar artımlı şekilde 10'dan 100'e kadar olan sayıları yazacak"
      ]
    },
    {
      "cell_type": "code",
      "execution_count": 3,
      "metadata": {
        "trusted": true
      },
      "outputs": [
        {
          "name": "stdout",
          "output_type": "stream",
          "text": [
            "10\n",
            "20\n",
            "30\n",
            "40\n",
            "50\n",
            "60\n",
            "70\n",
            "80\n",
            "90\n"
          ]
        }
      ],
      "source": [
        "a = 10\n",
        "while a < 100:\n",
        "    print(a)\n",
        "    a += 10"
      ]
    },
    {
      "cell_type": "markdown",
      "metadata": {
        "trusted": true
      },
      "source": [
        "100'den geriye doğru 10'ar azaltarak sayıları yazar"
      ]
    },
    {
      "cell_type": "code",
      "execution_count": 7,
      "metadata": {
        "trusted": true
      },
      "outputs": [
        {
          "name": "stdout",
          "output_type": "stream",
          "text": [
            "100\n",
            "90\n",
            "80\n",
            "70\n",
            "60\n",
            "50\n",
            "40\n",
            "30\n",
            "20\n",
            "10\n"
          ]
        }
      ],
      "source": [
        "a = 100\n",
        "while a >= 10:\n",
        "    print(a)\n",
        "    a -= 10"
      ]
    },
    {
      "cell_type": "markdown",
      "metadata": {
        "trusted": true
      },
      "source": [
        "1'den kullanıcının girdiği sayıya kadar olan sayıları 1'er artımlı yazar"
      ]
    },
    {
      "cell_type": "code",
      "execution_count": null,
      "metadata": {
        "trusted": true
      },
      "outputs": [],
      "source": [
        "a = 1\n",
        "n = int(input(\"Son sayıyı giriniz...\"))\n",
        "while a < n :\n",
        "    print(a)\n",
        "    a += 1"
      ]
    },
    {
      "cell_type": "markdown",
      "metadata": {
        "trusted": true
      },
      "source": [
        "Kullanıcının girdiği 2 sayı arasında kalan sayıları yazar"
      ]
    },
    {
      "cell_type": "code",
      "execution_count": null,
      "metadata": {
        "trusted": true
      },
      "outputs": [],
      "source": [
        "a = int(input(\"İlk sayıyı giriniz...\"))\n",
        "n = int(input(\"Son sayıyı giriniz...\"))\n",
        "while a < n :\n",
        "    print(a)\n",
        "    a += 1\n",
        "    "
      ]
    },
    {
      "cell_type": "markdown",
      "metadata": {
        "trusted": true
      },
      "source": [
        "Kullanıcının girdiği sayılar arasında kalan sayıları , kullanıcının istediği miktarda arttırarak yazar"
      ]
    },
    {
      "cell_type": "code",
      "execution_count": null,
      "metadata": {
        "trusted": true
      },
      "outputs": [],
      "source": [
        "a = int(input(\"İlk sayıyı giriniz : \"))\n",
        "n = int(input(\"Son sayıyı giriniz : \"))\n",
        "k = int(input(\"Artış miktarını giriniz :\"))\n",
        "\n",
        "while a < n :\n",
        "    print(a)\n",
        "    a += k"
      ]
    },
    {
      "cell_type": "markdown",
      "metadata": {
        "trusted": true
      },
      "source": [
        "1 ile 20 arasındaki sayılardan çift olanları yazar"
      ]
    },
    {
      "cell_type": "code",
      "execution_count": null,
      "metadata": {
        "trusted": true
      },
      "outputs": [],
      "source": [
        "a = 1\n",
        "\n",
        "while a < 20 :\n",
        "    if a % 2 == 0 :\n",
        "        print (a)\n",
        "    \n",
        "    a += 1"
      ]
    },
    {
      "cell_type": "code",
      "execution_count": null,
      "metadata": {
        "trusted": true
      },
      "outputs": [],
      "source": [
        "Kullanıcı tarafından girilen sayının karesi ekrana yazılır ve yeni sayı girmesi istenir. Bu durum kullanıcı sıfır sayısını girene kadar devam eder."
      ]
    },
    {
      "cell_type": "code",
      "execution_count": null,
      "metadata": {
        "trusted": true
      },
      "outputs": [],
      "source": [
        "a = 1\n",
        "\n",
        "while a == True:\n",
        "   \n",
        "    b = int(input(\"Sayı giriniz : \"))\n",
        "    \n",
        "    if b == 0:\n",
        "        print(\"Çıkış yapıldı....\")\n",
        "        a = 0\n",
        "    else : \n",
        "        print(f\"SONUÇ = {b*b} dır. \")\n",
        "        \n",
        "    \n",
        "\n",
        "    "
      ]
    },
    {
      "cell_type": "markdown",
      "metadata": {},
      "source": [
        " 1-10 arasındaki sayıların toplamını hesaplar ve ekrana yazar"
      ]
    },
    {
      "cell_type": "code",
      "execution_count": null,
      "metadata": {
        "trusted": true
      },
      "outputs": [
        {
          "name": "stdout",
          "output_type": "stream",
          "text": [
            "SONUÇ = 55 dır. \n"
          ]
        }
      ],
      "source": [
        "a = 1\n",
        "k = 0\n",
        "\n",
        "while a <= 10 :\n",
        "    k += a\n",
        "    a += 1\n",
        "\n",
        "print(f\"SONUÇ = {k} dır. \")\n",
        "\n",
        "    "
      ]
    },
    {
      "cell_type": "markdown",
      "metadata": {},
      "source": [
        "Girilen iki sayı arasındaki sayıların toplamını hesaplar ve ekrana yazar"
      ]
    },
    {
      "cell_type": "code",
      "execution_count": null,
      "metadata": {
        "trusted": true
      },
      "outputs": [],
      "source": [
        "\n",
        "\n",
        "a = int(input(\"İlk sayıyı giriniz : \"))\n",
        "n = int(input(\"Son sayıyı giriniz : \"))\n",
        "k = 0\n",
        "while a <= n :\n",
        "    k += a\n",
        "    a+= 1\n",
        "\n",
        "print(f\"SONUÇ = {k}\")"
      ]
    }
  ],
  "metadata": {
    "kernelspec": {
      "display_name": "spyder-runtime",
      "language": "python",
      "name": "python3"
    },
    "language_info": {
      "codemirror_mode": {
        "name": "ipython",
        "version": 3
      },
      "file_extension": ".py",
      "mimetype": "text/x-python",
      "name": "python",
      "nbconvert_exporter": "python",
      "pygments_lexer": "ipython3",
      "version": "3.11.11"
    }
  },
  "nbformat": 4,
  "nbformat_minor": 4
}
