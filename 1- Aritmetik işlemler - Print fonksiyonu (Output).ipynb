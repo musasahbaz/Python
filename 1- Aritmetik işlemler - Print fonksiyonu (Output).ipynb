{
  "metadata": {
    "kernelspec": {
      "display_name": "Python (Pyodide)",
      "language": "python",
      "name": "python"
    },
    "language_info": {
      "codemirror_mode": {
        "name": "python",
        "version": 3
      },
      "file_extension": ".py",
      "mimetype": "text/x-python",
      "name": "python",
      "nbconvert_exporter": "python",
      "pygments_lexer": "ipython3",
      "version": "3.8"
    }
  },
  "nbformat_minor": 4,
  "nbformat": 4,
  "cells": [
    {
      "cell_type": "markdown",
      "source": "# SAYILAR-METİNLER-DEĞİŞKENLER - print Fonksiyonu",
      "metadata": {}
    },
    {
      "cell_type": "code",
      "source": "23",
      "metadata": {
        "trusted": true
      },
      "outputs": [
        {
          "execution_count": 2,
          "output_type": "execute_result",
          "data": {
            "text/plain": "23"
          },
          "metadata": {}
        }
      ],
      "execution_count": 2
    },
    {
      "cell_type": "code",
      "source": "45",
      "metadata": {
        "trusted": true
      },
      "outputs": [
        {
          "execution_count": 3,
          "output_type": "execute_result",
          "data": {
            "text/plain": "45"
          },
          "metadata": {}
        }
      ],
      "execution_count": 3
    },
    {
      "cell_type": "code",
      "source": "3.14",
      "metadata": {
        "trusted": true
      },
      "outputs": [
        {
          "execution_count": 4,
          "output_type": "execute_result",
          "data": {
            "text/plain": "3.14"
          },
          "metadata": {}
        }
      ],
      "execution_count": 4
    },
    {
      "cell_type": "code",
      "source": "8 + 32",
      "metadata": {
        "trusted": true
      },
      "outputs": [
        {
          "execution_count": 5,
          "output_type": "execute_result",
          "data": {
            "text/plain": "40"
          },
          "metadata": {}
        }
      ],
      "execution_count": 5
    },
    {
      "cell_type": "code",
      "source": "5*5",
      "metadata": {
        "trusted": true
      },
      "outputs": [
        {
          "execution_count": 6,
          "output_type": "execute_result",
          "data": {
            "text/plain": "25"
          },
          "metadata": {}
        }
      ],
      "execution_count": 6
    },
    {
      "cell_type": "code",
      "source": "a=10\na/2\nprint(a)",
      "metadata": {
        "trusted": true
      },
      "outputs": [
        {
          "name": "stdout",
          "text": "10\n",
          "output_type": "stream"
        }
      ],
      "execution_count": 7
    },
    {
      "cell_type": "markdown",
      "source": " ### \"#\" işareti ile başlayan satırlar işleme konmaz. Çoğunlukla açıklama yapmak için kullanılır",
      "metadata": {}
    },
    {
      "cell_type": "code",
      "source": "b = a + 5     #a'nın 5 fazlasını b'ye atadı\nprint(b)",
      "metadata": {
        "trusted": true
      },
      "outputs": [
        {
          "name": "stdout",
          "text": "15\n",
          "output_type": "stream"
        }
      ],
      "execution_count": 8
    },
    {
      "cell_type": "code",
      "source": "c = a + b\nprint(c)",
      "metadata": {
        "trusted": true
      },
      "outputs": [
        {
          "name": "stdout",
          "text": "25\n",
          "output_type": "stream"
        }
      ],
      "execution_count": 9
    },
    {
      "cell_type": "code",
      "source": "d = b / 0    #Sıfıra bölünme hatası",
      "metadata": {
        "trusted": true
      },
      "outputs": [
        {
          "ename": "<class 'ZeroDivisionError'>",
          "evalue": "division by zero",
          "traceback": [
            "\u001b[0;31m---------------------------------------------------------------------------\u001b[0m",
            "\u001b[0;31mZeroDivisionError\u001b[0m                         Traceback (most recent call last)",
            "Cell \u001b[0;32mIn[10], line 1\u001b[0m\n\u001b[0;32m----> 1\u001b[0m d \u001b[38;5;241m=\u001b[39m \u001b[43mb\u001b[49m\u001b[43m \u001b[49m\u001b[38;5;241;43m/\u001b[39;49m\u001b[43m \u001b[49m\u001b[38;5;241;43m0\u001b[39;49m    \u001b[38;5;66;03m#Sıfıra bölünme hatası\u001b[39;00m\n",
            "\u001b[0;31mZeroDivisionError\u001b[0m: division by zero"
          ],
          "output_type": "error"
        }
      ],
      "execution_count": 10
    },
    {
      "cell_type": "code",
      "source": "x = 13\nx = x + 1    #x'in değerini 1 arttır\nprint ( x )",
      "metadata": {
        "trusted": true
      },
      "outputs": [
        {
          "name": "stdout",
          "text": "14\n",
          "output_type": "stream"
        }
      ],
      "execution_count": 11
    },
    {
      "cell_type": "code",
      "source": "x += 1      #x=x+1 ile aynı işi yapar\nprint(x)",
      "metadata": {
        "trusted": true
      },
      "outputs": [
        {
          "name": "stdout",
          "text": "15\n",
          "output_type": "stream"
        }
      ],
      "execution_count": 12
    },
    {
      "cell_type": "code",
      "source": "x *= 2      #x'in değerini 2 katına çıkar\nprint(x)",
      "metadata": {
        "trusted": true
      },
      "outputs": [
        {
          "name": "stdout",
          "text": "30\n",
          "output_type": "stream"
        }
      ],
      "execution_count": 13
    },
    {
      "cell_type": "code",
      "source": "x /= 3      #x'in değerini 3'e böl ve yeni değer bu olsun\nprint(x)",
      "metadata": {
        "trusted": true
      },
      "outputs": [
        {
          "name": "stdout",
          "text": "10.0\n",
          "output_type": "stream"
        }
      ],
      "execution_count": 14
    },
    {
      "cell_type": "markdown",
      "source": "#### PYTHON HAFIZASI",
      "metadata": {}
    },
    {
      "cell_type": "code",
      "source": "100",
      "metadata": {
        "trusted": true
      },
      "outputs": [
        {
          "execution_count": 15,
          "output_type": "execute_result",
          "data": {
            "text/plain": "100"
          },
          "metadata": {}
        }
      ],
      "execution_count": 15
    },
    {
      "cell_type": "code",
      "source": "_ #Altçizgi ( _ ) Pythonun hafızasındaki en son değeri tutar",
      "metadata": {
        "trusted": true
      },
      "outputs": [
        {
          "execution_count": 16,
          "output_type": "execute_result",
          "data": {
            "text/plain": "100"
          },
          "metadata": {}
        }
      ],
      "execution_count": 16
    },
    {
      "cell_type": "code",
      "source": "_ + 50 #Enson değere 50 ekle",
      "metadata": {
        "trusted": true
      },
      "outputs": [
        {
          "execution_count": 17,
          "output_type": "execute_result",
          "data": {
            "text/plain": "150"
          },
          "metadata": {}
        }
      ],
      "execution_count": 17
    },
    {
      "cell_type": "markdown",
      "source": "#### ÜS VE MOD",
      "metadata": {}
    },
    {
      "cell_type": "code",
      "source": "12*12  # Çarpma işlemi",
      "metadata": {
        "trusted": true
      },
      "outputs": [
        {
          "execution_count": 18,
          "output_type": "execute_result",
          "data": {
            "text/plain": "144"
          },
          "metadata": {}
        }
      ],
      "execution_count": 18
    },
    {
      "cell_type": "code",
      "source": "12**2 # Üs almak için ** kullanılır.",
      "metadata": {
        "trusted": true
      },
      "outputs": [
        {
          "execution_count": 19,
          "output_type": "execute_result",
          "data": {
            "text/plain": "144"
          },
          "metadata": {}
        }
      ],
      "execution_count": 19
    },
    {
      "cell_type": "code",
      "source": "pow(12,2) # pow() fonksiyonu da üs almak için kullanılabilir",
      "metadata": {
        "trusted": true
      },
      "outputs": [
        {
          "execution_count": 20,
          "output_type": "execute_result",
          "data": {
            "text/plain": "144"
          },
          "metadata": {}
        }
      ],
      "execution_count": 20
    },
    {
      "cell_type": "code",
      "source": "81**0.5 # 81**(1/2) ile aynı görevi yerine getirir.Karekökünü alır",
      "metadata": {
        "trusted": true
      },
      "outputs": [
        {
          "execution_count": 21,
          "output_type": "execute_result",
          "data": {
            "text/plain": "9.0"
          },
          "metadata": {}
        }
      ],
      "execution_count": 21
    },
    {
      "cell_type": "code",
      "source": "pow(81,0.5) #81 sayısının 2.dereceden kökünü alır",
      "metadata": {
        "trusted": true
      },
      "outputs": [
        {
          "execution_count": 22,
          "output_type": "execute_result",
          "data": {
            "text/plain": "9.0"
          },
          "metadata": {}
        }
      ],
      "execution_count": 22
    },
    {
      "cell_type": "code",
      "source": "26 % 7 #26 nın 7 ye bölümünden kalanı verir.Mod.",
      "metadata": {
        "trusted": true
      },
      "outputs": [
        {
          "execution_count": 23,
          "output_type": "execute_result",
          "data": {
            "text/plain": "5"
          },
          "metadata": {}
        }
      ],
      "execution_count": 23
    },
    {
      "cell_type": "code",
      "source": "pow(5,3,6) #pow(sayi1,sayi2,sayi3) sayı1 in sayi2.üssünü alır ve sayi3 e bölümünden kalanını",
      "metadata": {
        "trusted": true
      },
      "outputs": [
        {
          "execution_count": 24,
          "output_type": "execute_result",
          "data": {
            "text/plain": "5"
          },
          "metadata": {}
        }
      ],
      "execution_count": 24
    },
    {
      "cell_type": "markdown",
      "source": "#### ÇOKLU DEĞİŞKENE DEĞER ATAMA",
      "metadata": {}
    },
    {
      "cell_type": "code",
      "source": "\nx=y=50 #Aynı değeri çoklu değişkenlere atama\n\nprint (x)\nprint (y)",
      "metadata": {
        "trusted": true
      },
      "outputs": [
        {
          "name": "stdout",
          "text": "50\n50\n",
          "output_type": "stream"
        }
      ],
      "execution_count": 25
    },
    {
      "cell_type": "code",
      "source": "x,y,z = 5,7,9 #farklı değeri çoklu değişkenlere atama\n\nprint (x)\nprint (y)",
      "metadata": {
        "trusted": true
      },
      "outputs": [
        {
          "name": "stdout",
          "text": "5\n7\n",
          "output_type": "stream"
        }
      ],
      "execution_count": 26
    },
    {
      "cell_type": "code",
      "source": "ocak = mart = mayıs = temmuz = ağustos = ekim = aralık = 31\nnisan = haziran = eylül = kasım = 30\nşubat = 29\n\nprint(eylül)",
      "metadata": {
        "trusted": true
      },
      "outputs": [
        {
          "name": "stdout",
          "text": "30\n",
          "output_type": "stream"
        }
      ],
      "execution_count": 27
    },
    {
      "cell_type": "code",
      "source": "y1,y2,perf = 90,95,100\n\nprint (y1)\nprint (perf)",
      "metadata": {
        "trusted": true
      },
      "outputs": [
        {
          "name": "stdout",
          "text": "90\n100\n",
          "output_type": "stream"
        }
      ],
      "execution_count": 28
    },
    {
      "cell_type": "code",
      "source": "ort=(y1+y2+perf)/3\n\nprint ( ort )",
      "metadata": {
        "trusted": true
      },
      "outputs": [
        {
          "name": "stdout",
          "text": "95.0\n",
          "output_type": "stream"
        }
      ],
      "execution_count": 29
    },
    {
      "cell_type": "markdown",
      "source": "#### DEĞİŞKEN TAKASI",
      "metadata": {}
    },
    {
      "cell_type": "code",
      "source": "almanya =\"Paris\"\nfransa = \"Berlin\"    #Başkent eşleştirmesi yanlış\n\nalmanya, fransa = fransa, almanya      #değişken değerleri yer değiştiriyor\nprint(almanya)\nprint(fransa)",
      "metadata": {
        "trusted": true
      },
      "outputs": [
        {
          "name": "stdout",
          "text": "Berlin\nParis\n",
          "output_type": "stream"
        }
      ],
      "execution_count": 30
    },
    {
      "cell_type": "code",
      "source": "oyuncu=\"Yavuz Turgul\"\nyonetmen=\"Şener Şen\"\noyuncu,yonetmen = yonetmen,oyuncu #değerleri yer değiş\n\nprint( oyuncu )",
      "metadata": {
        "trusted": true
      },
      "outputs": [
        {
          "name": "stdout",
          "text": "Şener Şen\n",
          "output_type": "stream"
        }
      ],
      "execution_count": 31
    },
    {
      "cell_type": "markdown",
      "source": "#### TYPE FONKSİYONU()\n###### type() fonksiyonu değişkenin veri tipini verir.",
      "metadata": {}
    },
    {
      "cell_type": "code",
      "source": "adi = \"Ova\"\na = 50\npi = 3.14\nharf = \"e\"\n\nprint(type(adi)) \nprint(type(a))\nprint(type(pi))\nprint(type(harf))",
      "metadata": {
        "scrolled": true,
        "trusted": true
      },
      "outputs": [
        {
          "name": "stdout",
          "text": "<class 'str'>\n<class 'int'>\n<class 'float'>\n<class 'str'>\n",
          "output_type": "stream"
        }
      ],
      "execution_count": 32
    },
    {
      "cell_type": "markdown",
      "source": "#### LEN FONKSİYONU() \n##### Değişkenin string değer uzunluğunu verir. Sadece string değerlerde çalışır",
      "metadata": {}
    },
    {
      "cell_type": "code",
      "source": "len(\"Ankara\")",
      "metadata": {
        "trusted": true
      },
      "outputs": [
        {
          "execution_count": 33,
          "output_type": "execute_result",
          "data": {
            "text/plain": "6"
          },
          "metadata": {}
        }
      ],
      "execution_count": 33
    },
    {
      "cell_type": "code",
      "source": "sonuc=\"KALDI\"",
      "metadata": {
        "trusted": true
      },
      "outputs": [],
      "execution_count": 34
    },
    {
      "cell_type": "code",
      "source": "len (sonuc)",
      "metadata": {
        "trusted": true
      },
      "outputs": [
        {
          "execution_count": 35,
          "output_type": "execute_result",
          "data": {
            "text/plain": "5"
          },
          "metadata": {}
        }
      ],
      "execution_count": 35
    },
    {
      "cell_type": "code",
      "source": "belge=\"YOK\"",
      "metadata": {
        "trusted": true
      },
      "outputs": [],
      "execution_count": 36
    },
    {
      "cell_type": "code",
      "source": "len(sonuc)+len(belge)",
      "metadata": {
        "trusted": true
      },
      "outputs": [
        {
          "execution_count": 37,
          "output_type": "execute_result",
          "data": {
            "text/plain": "8"
          },
          "metadata": {}
        }
      ],
      "execution_count": 37
    },
    {
      "cell_type": "code",
      "source": "type(sonuc)",
      "metadata": {
        "trusted": true
      },
      "outputs": [
        {
          "execution_count": 38,
          "output_type": "execute_result",
          "data": {
            "text/plain": "str"
          },
          "metadata": {}
        }
      ],
      "execution_count": 38
    },
    {
      "cell_type": "code",
      "source": "type(len(sonuc))",
      "metadata": {
        "trusted": true
      },
      "outputs": [
        {
          "execution_count": 39,
          "output_type": "execute_result",
          "data": {
            "text/plain": "int"
          },
          "metadata": {}
        }
      ],
      "execution_count": 39
    },
    {
      "cell_type": "markdown",
      "source": "#### MANTIKSAL VERİ TÜRLERİ\n",
      "metadata": {}
    },
    {
      "cell_type": "code",
      "source": "3<10",
      "metadata": {
        "trusted": true
      },
      "outputs": [
        {
          "execution_count": 40,
          "output_type": "execute_result",
          "data": {
            "text/plain": "True"
          },
          "metadata": {}
        }
      ],
      "execution_count": 40
    },
    {
      "cell_type": "code",
      "source": "pi = 3.14",
      "metadata": {
        "trusted": true
      },
      "outputs": [],
      "execution_count": 41
    },
    {
      "cell_type": "code",
      "source": "5 > pi",
      "metadata": {
        "trusted": true
      },
      "outputs": [
        {
          "execution_count": 42,
          "output_type": "execute_result",
          "data": {
            "text/plain": "True"
          },
          "metadata": {}
        }
      ],
      "execution_count": 42
    },
    {
      "cell_type": "code",
      "source": "pi==3.14 # == Eşit (eşit mi?)",
      "metadata": {
        "trusted": true
      },
      "outputs": [
        {
          "execution_count": 43,
          "output_type": "execute_result",
          "data": {
            "text/plain": "True"
          },
          "metadata": {}
        }
      ],
      "execution_count": 43
    },
    {
      "cell_type": "code",
      "source": "pi != 3 # != Eşit değil (Farklı mı?)",
      "metadata": {
        "trusted": true
      },
      "outputs": [
        {
          "execution_count": 44,
          "output_type": "execute_result",
          "data": {
            "text/plain": "True"
          },
          "metadata": {}
        }
      ],
      "execution_count": 44
    },
    {
      "cell_type": "code",
      "source": "# ==\teşit mi ?\t",
      "metadata": {
        "trusted": true
      },
      "outputs": [],
      "execution_count": 45
    },
    {
      "cell_type": "code",
      "source": "10 == 10    ",
      "metadata": {
        "trusted": true
      },
      "outputs": [
        {
          "execution_count": 46,
          "output_type": "execute_result",
          "data": {
            "text/plain": "True"
          },
          "metadata": {}
        }
      ],
      "execution_count": 46
    },
    {
      "cell_type": "code",
      "source": "5 == 4",
      "metadata": {
        "trusted": true
      },
      "outputs": [
        {
          "execution_count": 47,
          "output_type": "execute_result",
          "data": {
            "text/plain": "False"
          },
          "metadata": {}
        }
      ],
      "execution_count": 47
    },
    {
      "cell_type": "code",
      "source": "x = 5 \ny = 5\n\nx == y",
      "metadata": {
        "trusted": true
      },
      "outputs": [
        {
          "execution_count": 48,
          "output_type": "execute_result",
          "data": {
            "text/plain": "True"
          },
          "metadata": {}
        }
      ],
      "execution_count": 48
    },
    {
      "cell_type": "code",
      "source": "#  !=\teşit değil mi?\t(Farklı mı? )\n10 != 9",
      "metadata": {
        "trusted": true
      },
      "outputs": [
        {
          "execution_count": 49,
          "output_type": "execute_result",
          "data": {
            "text/plain": "True"
          },
          "metadata": {}
        }
      ],
      "execution_count": 49
    },
    {
      "cell_type": "code",
      "source": "# >\tBüyük mü ?\t",
      "metadata": {
        "trusted": true
      },
      "outputs": [],
      "execution_count": 50
    },
    {
      "cell_type": "code",
      "source": "5 > 5",
      "metadata": {
        "trusted": true
      },
      "outputs": [
        {
          "execution_count": 51,
          "output_type": "execute_result",
          "data": {
            "text/plain": "False"
          },
          "metadata": {}
        }
      ],
      "execution_count": 51
    },
    {
      "cell_type": "code",
      "source": "# <\tKüçük mü ?\t",
      "metadata": {
        "trusted": true
      },
      "outputs": [],
      "execution_count": 149
    },
    {
      "cell_type": "code",
      "source": "8 < 5",
      "metadata": {
        "trusted": true
      },
      "outputs": [
        {
          "execution_count": 53,
          "output_type": "execute_result",
          "data": {
            "text/plain": "False"
          },
          "metadata": {}
        }
      ],
      "execution_count": 53
    },
    {
      "cell_type": "code",
      "source": "\n#  >=\tBüyük eşit mi ?\t\n",
      "metadata": {
        "trusted": true
      },
      "outputs": [],
      "execution_count": 54
    },
    {
      "cell_type": "code",
      "source": "5 >= 5\t",
      "metadata": {
        "trusted": true
      },
      "outputs": [
        {
          "execution_count": 55,
          "output_type": "execute_result",
          "data": {
            "text/plain": "True"
          },
          "metadata": {}
        }
      ],
      "execution_count": 55
    },
    {
      "cell_type": "code",
      "source": "#   <=\tKüçük eşit mi ?\t",
      "metadata": {
        "trusted": true
      },
      "outputs": [],
      "execution_count": 56
    },
    {
      "cell_type": "code",
      "source": "5 <= 5\t",
      "metadata": {
        "trusted": true
      },
      "outputs": [
        {
          "execution_count": 57,
          "output_type": "execute_result",
          "data": {
            "text/plain": "True"
          },
          "metadata": {}
        }
      ],
      "execution_count": 57
    },
    {
      "cell_type": "code",
      "source": "yer=\"Kuzguncuk\" #String bir karakter dizisidir",
      "metadata": {
        "trusted": true
      },
      "outputs": [],
      "execution_count": 58
    },
    {
      "cell_type": "code",
      "source": "yer[3] #Dizinin 3.elemanı",
      "metadata": {
        "trusted": true
      },
      "outputs": [
        {
          "execution_count": 59,
          "output_type": "execute_result",
          "data": {
            "text/plain": "'g'"
          },
          "metadata": {}
        }
      ],
      "execution_count": 59
    },
    {
      "cell_type": "code",
      "source": " yer[0] #Dizi eleman numarası 0 dan başlar",
      "metadata": {
        "trusted": true
      },
      "outputs": [
        {
          "execution_count": 60,
          "output_type": "execute_result",
          "data": {
            "text/plain": "'K'"
          },
          "metadata": {}
        }
      ],
      "execution_count": 60
    },
    {
      "cell_type": "markdown",
      "source": "##### del() ile değişken silme",
      "metadata": {}
    },
    {
      "cell_type": "code",
      "source": "len = \"Nasılsın?\"   #fonksiyon, değişken adı olarak kullanıldı",
      "metadata": {
        "trusted": true
      },
      "outputs": [],
      "execution_count": 61
    },
    {
      "cell_type": "code",
      "source": "print(len)",
      "metadata": {
        "trusted": true
      },
      "outputs": [
        {
          "name": "stdout",
          "text": "Nasılsın?\n",
          "output_type": "stream"
        }
      ],
      "execution_count": 62
    },
    {
      "cell_type": "code",
      "source": "len(\"Merhaba\") #artık fonksiyon olarak kullanılamıyor.",
      "metadata": {
        "trusted": true
      },
      "outputs": [
        {
          "ename": "<class 'TypeError'>",
          "evalue": "'str' object is not callable",
          "traceback": [
            "\u001b[0;31m---------------------------------------------------------------------------\u001b[0m",
            "\u001b[0;31mTypeError\u001b[0m                                 Traceback (most recent call last)",
            "Cell \u001b[0;32mIn[63], line 1\u001b[0m\n\u001b[0;32m----> 1\u001b[0m \u001b[38;5;28;43mlen\u001b[39;49m\u001b[43m(\u001b[49m\u001b[38;5;124;43m\"\u001b[39;49m\u001b[38;5;124;43mMerhaba\u001b[39;49m\u001b[38;5;124;43m\"\u001b[39;49m\u001b[43m)\u001b[49m \u001b[38;5;66;03m#artık fonksiyon olarak kullanılamıyor.\u001b[39;00m\n",
            "\u001b[0;31mTypeError\u001b[0m: 'str' object is not callable"
          ],
          "output_type": "error"
        }
      ],
      "execution_count": 63
    },
    {
      "cell_type": "code",
      "source": "# Bu durumda len fonksiyonunun çalışabilmesi için aynı isimle oluşturulan değişkenin silinmesi gerekir",
      "metadata": {
        "trusted": true
      },
      "outputs": [],
      "execution_count": 64
    },
    {
      "cell_type": "code",
      "source": "del (len)    # len isimli değişkeni sil",
      "metadata": {
        "trusted": true
      },
      "outputs": [],
      "execution_count": 65
    },
    {
      "cell_type": "code",
      "source": "len (\"Merhaba\")  #şimdi yeniden fonksiyonu çalıştıralım",
      "metadata": {
        "trusted": true
      },
      "outputs": [
        {
          "execution_count": 66,
          "output_type": "execute_result",
          "data": {
            "text/plain": "7"
          },
          "metadata": {}
        }
      ],
      "execution_count": 66
    },
    {
      "cell_type": "code",
      "source": "##### Bir örnek daha",
      "metadata": {
        "trusted": true
      },
      "outputs": [],
      "execution_count": 67
    },
    {
      "cell_type": "code",
      "source": "type=\"Bilgisayar\" #fonksiyon, değişken adı olarak kullanıldı",
      "metadata": {
        "trusted": true
      },
      "outputs": [],
      "execution_count": 68
    },
    {
      "cell_type": "code",
      "source": "type(ort) #artık fonksiyon olarak kullanılamıyor",
      "metadata": {
        "trusted": true
      },
      "outputs": [
        {
          "ename": "<class 'TypeError'>",
          "evalue": "'str' object is not callable",
          "traceback": [
            "\u001b[0;31m---------------------------------------------------------------------------\u001b[0m",
            "\u001b[0;31mTypeError\u001b[0m                                 Traceback (most recent call last)",
            "Cell \u001b[0;32mIn[69], line 1\u001b[0m\n\u001b[0;32m----> 1\u001b[0m \u001b[38;5;28;43mtype\u001b[39;49m\u001b[43m(\u001b[49m\u001b[43mort\u001b[49m\u001b[43m)\u001b[49m \u001b[38;5;66;03m#artık fonksiyon olarak kullanılamıyor\u001b[39;00m\n",
            "\u001b[0;31mTypeError\u001b[0m: 'str' object is not callable"
          ],
          "output_type": "error"
        }
      ],
      "execution_count": 69
    },
    {
      "cell_type": "code",
      "source": "del (type) #değişkeni siliyoruz",
      "metadata": {
        "trusted": true
      },
      "outputs": [],
      "execution_count": 70
    },
    {
      "cell_type": "code",
      "source": "type(ort) #type artık fonksiyon",
      "metadata": {
        "trusted": true
      },
      "outputs": [
        {
          "execution_count": 71,
          "output_type": "execute_result",
          "data": {
            "text/plain": "float"
          },
          "metadata": {}
        }
      ],
      "execution_count": 71
    },
    {
      "cell_type": "code",
      "source": "ort = 90\nprint ( ort)",
      "metadata": {
        "trusted": true
      },
      "outputs": [
        {
          "name": "stdout",
          "text": "90\n",
          "output_type": "stream"
        }
      ],
      "execution_count": 72
    },
    {
      "cell_type": "code",
      "source": "del (ort)\nprint(ort)",
      "metadata": {
        "trusted": true
      },
      "outputs": [
        {
          "ename": "<class 'NameError'>",
          "evalue": "name 'ort' is not defined",
          "traceback": [
            "\u001b[0;31m---------------------------------------------------------------------------\u001b[0m",
            "\u001b[0;31mNameError\u001b[0m                                 Traceback (most recent call last)",
            "Cell \u001b[0;32mIn[73], line 2\u001b[0m\n\u001b[1;32m      1\u001b[0m \u001b[38;5;28;01mdel\u001b[39;00m (ort)\n\u001b[0;32m----> 2\u001b[0m \u001b[38;5;28mprint\u001b[39m(\u001b[43mort\u001b[49m)\n",
            "\u001b[0;31mNameError\u001b[0m: name 'ort' is not defined"
          ],
          "output_type": "error"
        }
      ],
      "execution_count": 73
    },
    {
      "cell_type": "markdown",
      "source": "##### TİP DÖNÜŞTÜRME",
      "metadata": {}
    },
    {
      "cell_type": "code",
      "source": "int(3.14) # 3.14 float sayısını bir alt tamsayı yapar (aşağı yuvarlar)",
      "metadata": {
        "trusted": true
      },
      "outputs": [
        {
          "execution_count": 75,
          "output_type": "execute_result",
          "data": {
            "text/plain": "3"
          },
          "metadata": {}
        }
      ],
      "execution_count": 75
    },
    {
      "cell_type": "code",
      "source": "int(5.9)",
      "metadata": {
        "trusted": true
      },
      "outputs": [
        {
          "execution_count": 76,
          "output_type": "execute_result",
          "data": {
            "text/plain": "5"
          },
          "metadata": {}
        }
      ],
      "execution_count": 76
    },
    {
      "cell_type": "code",
      "source": "str(36) # integer olan tam sayıyı stringe dönüştür",
      "metadata": {
        "trusted": true
      },
      "outputs": [
        {
          "execution_count": 77,
          "output_type": "execute_result",
          "data": {
            "text/plain": "'36'"
          },
          "metadata": {}
        }
      ],
      "execution_count": 77
    },
    {
      "cell_type": "code",
      "source": "float(15) # Tam sayıyı, floata çevir",
      "metadata": {
        "trusted": true
      },
      "outputs": [
        {
          "execution_count": 78,
          "output_type": "execute_result",
          "data": {
            "text/plain": "15.0"
          },
          "metadata": {}
        }
      ],
      "execution_count": 78
    },
    {
      "cell_type": "code",
      "source": "pi=3.14",
      "metadata": {
        "trusted": true
      },
      "outputs": [],
      "execution_count": 79
    },
    {
      "cell_type": "code",
      "source": "int(pi) #float olan pi değerini tam sayıya (integer) dönüştür.",
      "metadata": {
        "trusted": true
      },
      "outputs": [
        {
          "execution_count": 80,
          "output_type": "execute_result",
          "data": {
            "text/plain": "3"
          },
          "metadata": {}
        }
      ],
      "execution_count": 80
    },
    {
      "cell_type": "markdown",
      "source": "#### round () fonksiyonu ile sayı yuvarlama",
      "metadata": {}
    },
    {
      "cell_type": "code",
      "source": "round(2.3) #round() yuvarla fonksiyonudur",
      "metadata": {
        "trusted": true
      },
      "outputs": [
        {
          "execution_count": 81,
          "output_type": "execute_result",
          "data": {
            "text/plain": "2"
          },
          "metadata": {}
        }
      ],
      "execution_count": 81
    },
    {
      "cell_type": "code",
      "source": "round(2.8) #Ondalıklı kısım 5'ten büyükse üst sayıya yuvarlar",
      "metadata": {
        "trusted": true
      },
      "outputs": [
        {
          "execution_count": 82,
          "output_type": "execute_result",
          "data": {
            "text/plain": "3"
          },
          "metadata": {}
        }
      ],
      "execution_count": 82
    },
    {
      "cell_type": "code",
      "source": "round(2.4912,1) #Ondalıklı kısmı 1 basamak yazar",
      "metadata": {
        "trusted": true
      },
      "outputs": [
        {
          "execution_count": 83,
          "output_type": "execute_result",
          "data": {
            "text/plain": "2.5"
          },
          "metadata": {}
        }
      ],
      "execution_count": 83
    },
    {
      "cell_type": "code",
      "source": "round(2.421,2) #Ondalıklı kısmı 2 basamak yaz",
      "metadata": {
        "trusted": true
      },
      "outputs": [
        {
          "execution_count": 84,
          "output_type": "execute_result",
          "data": {
            "text/plain": "2.42"
          },
          "metadata": {}
        }
      ],
      "execution_count": 84
    },
    {
      "cell_type": "markdown",
      "source": "#### METİNLERLE ÇALIŞMA",
      "metadata": {}
    },
    {
      "cell_type": "code",
      "source": "print(istanbul)                 #İstanbul isminde değişken tanımlanmadı",
      "metadata": {
        "trusted": true
      },
      "outputs": [
        {
          "ename": "<class 'NameError'>",
          "evalue": "name 'istanbul' is not defined",
          "traceback": [
            "\u001b[0;31m---------------------------------------------------------------------------\u001b[0m",
            "\u001b[0;31mNameError\u001b[0m                                 Traceback (most recent call last)",
            "Cell \u001b[0;32mIn[85], line 1\u001b[0m\n\u001b[0;32m----> 1\u001b[0m \u001b[38;5;28mprint\u001b[39m(\u001b[43mistanbul\u001b[49m)                 \u001b[38;5;66;03m#İstanbul isminde değişken tanımlanmadı\u001b[39;00m\n",
            "\u001b[0;31mNameError\u001b[0m: name 'istanbul' is not defined"
          ],
          "output_type": "error"
        }
      ],
      "execution_count": 85
    },
    {
      "cell_type": "code",
      "source": "adi=\"Kemal\"                       #adi isminde bir değişken tanımlandı ve değer atandı\nsoyadi=\"Sunal\"\nprint( adi)",
      "metadata": {
        "trusted": true
      },
      "outputs": [
        {
          "name": "stdout",
          "text": "Kemal\n",
          "output_type": "stream"
        }
      ],
      "execution_count": 86
    },
    {
      "cell_type": "code",
      "source": "adiSoyadi = adi + soyadi         #adi ve soyadi değişkenleri birleştirildi ama boşluksuz\nprint (adiSoyadi)",
      "metadata": {
        "trusted": true
      },
      "outputs": [
        {
          "name": "stdout",
          "text": "KemalSunal\n",
          "output_type": "stream"
        }
      ],
      "execution_count": 87
    },
    {
      "cell_type": "code",
      "source": "adiSoyadi=adi+\" \"+soyadi\nprint (adiSoyadi)",
      "metadata": {
        "trusted": true
      },
      "outputs": [
        {
          "name": "stdout",
          "text": "Kemal Sunal\n",
          "output_type": "stream"
        }
      ],
      "execution_count": 88
    },
    {
      "cell_type": "code",
      "source": "print(adi,soyadi)            # aralara boşluk ekleyerek yazar",
      "metadata": {
        "trusted": true
      },
      "outputs": [
        {
          "name": "stdout",
          "text": "Kemal Sunal\n",
          "output_type": "stream"
        }
      ],
      "execution_count": 89
    },
    {
      "cell_type": "code",
      "source": "print('Sabahattin', 'Ali') # Araya boşluk koyarak kelimeleri yazar",
      "metadata": {
        "trusted": true
      },
      "outputs": [
        {
          "name": "stdout",
          "text": "Sabahattin Ali\n",
          "output_type": "stream"
        }
      ],
      "execution_count": 90
    },
    {
      "cell_type": "code",
      "source": " print('Peyami', 'Safa', 'İstanbul', 1899)",
      "metadata": {
        "trusted": true
      },
      "outputs": [
        {
          "name": "stdout",
          "text": "Peyami Safa İstanbul 1899\n",
          "output_type": "stream"
        }
      ],
      "execution_count": 91
    },
    {
      "cell_type": "code",
      "source": "print(\"Ahmet\" + \" \" + \"Hamdi\" + \" \" +  \"TANPINAR\")               #bu şekilde de metin birleştirme yapılabilir",
      "metadata": {
        "trusted": true
      },
      "outputs": [
        {
          "name": "stdout",
          "text": "Ahmet Hamdi TANPINAR\n",
          "output_type": "stream"
        }
      ],
      "execution_count": 92
    },
    {
      "cell_type": "code",
      "source": "print( \"Oğuz\"+\"ATAY\" )  #metni birleştirir, boşluk bırakmaz",
      "metadata": {
        "trusted": true
      },
      "outputs": [
        {
          "name": "stdout",
          "text": "OğuzATAY\n",
          "output_type": "stream"
        }
      ],
      "execution_count": 93
    },
    {
      "cell_type": "code",
      "source": "print ( 4+9 )",
      "metadata": {
        "trusted": true
      },
      "outputs": [
        {
          "name": "stdout",
          "text": "13\n",
          "output_type": "stream"
        }
      ],
      "execution_count": 94
    },
    {
      "cell_type": "code",
      "source": "print ( 4+\"Oğuz\" )   # Matematiksel işlemler sadece sayısal değerlerde yapılabilir.",
      "metadata": {
        "trusted": true
      },
      "outputs": [
        {
          "ename": "<class 'TypeError'>",
          "evalue": "unsupported operand type(s) for +: 'int' and 'str'",
          "traceback": [
            "\u001b[0;31m---------------------------------------------------------------------------\u001b[0m",
            "\u001b[0;31mTypeError\u001b[0m                                 Traceback (most recent call last)",
            "Cell \u001b[0;32mIn[95], line 1\u001b[0m\n\u001b[0;32m----> 1\u001b[0m \u001b[38;5;28mprint\u001b[39m ( \u001b[38;5;241;43m4\u001b[39;49m\u001b[38;5;241;43m+\u001b[39;49m\u001b[38;5;124;43m\"\u001b[39;49m\u001b[38;5;124;43mOğuz\u001b[39;49m\u001b[38;5;124;43m\"\u001b[39;49m )   \u001b[38;5;66;03m# Matematiksel işlemler sadece sayısal değerlerde yapılabilir.\u001b[39;00m\n",
            "\u001b[0;31mTypeError\u001b[0m: unsupported operand type(s) for +: 'int' and 'str'"
          ],
          "output_type": "error"
        }
      ],
      "execution_count": 95
    },
    {
      "cell_type": "code",
      "source": "print (45+\"55\")   # İnterger ile String toplanamaz",
      "metadata": {
        "trusted": true
      },
      "outputs": [
        {
          "ename": "<class 'TypeError'>",
          "evalue": "unsupported operand type(s) for +: 'int' and 'str'",
          "traceback": [
            "\u001b[0;31m---------------------------------------------------------------------------\u001b[0m",
            "\u001b[0;31mTypeError\u001b[0m                                 Traceback (most recent call last)",
            "Cell \u001b[0;32mIn[96], line 1\u001b[0m\n\u001b[0;32m----> 1\u001b[0m \u001b[38;5;28mprint\u001b[39m (\u001b[38;5;241;43m45\u001b[39;49m\u001b[38;5;241;43m+\u001b[39;49m\u001b[38;5;124;43m\"\u001b[39;49m\u001b[38;5;124;43m55\u001b[39;49m\u001b[38;5;124;43m\"\u001b[39;49m)   \u001b[38;5;66;03m# İnterger ile String toplanamaz\u001b[39;00m\n",
            "\u001b[0;31mTypeError\u001b[0m: unsupported operand type(s) for +: 'int' and 'str'"
          ],
          "output_type": "error"
        }
      ],
      "execution_count": 96
    },
    {
      "cell_type": "code",
      "source": "print ( \"45\"+\"55\" )   # Tırnak içinde girilen değerler String olarak işlem görür",
      "metadata": {
        "trusted": true
      },
      "outputs": [
        {
          "name": "stdout",
          "text": "4555\n",
          "output_type": "stream"
        }
      ],
      "execution_count": 97
    },
    {
      "cell_type": "code",
      "source": "print ( \"Metin\"*5 )   # Belirtilen stringi 5 kere yaz",
      "metadata": {
        "trusted": true
      },
      "outputs": [
        {
          "name": "stdout",
          "text": "MetinMetinMetinMetinMetin\n",
          "output_type": "stream"
        }
      ],
      "execution_count": 98
    },
    {
      "cell_type": "code",
      "source": "print ( \"=\" * 30 )",
      "metadata": {
        "trusted": true
      },
      "outputs": [
        {
          "name": "stdout",
          "text": "==============================\n",
          "output_type": "stream"
        }
      ],
      "execution_count": 99
    },
    {
      "cell_type": "markdown",
      "source": "##### * oparetörünün metinlerle kullanımı",
      "metadata": {}
    },
    {
      "cell_type": "code",
      "source": "print(*\"Çanakkale\") ",
      "metadata": {
        "trusted": true
      },
      "outputs": [
        {
          "name": "stdout",
          "text": "Ç a n a k k a l e\n",
          "output_type": "stream"
        }
      ],
      "execution_count": 100
    },
    {
      "cell_type": "code",
      "source": "print(*\"Çanakkale\")  #Karakterlere ayırır ve araya boşluk ekler",
      "metadata": {
        "trusted": true
      },
      "outputs": [
        {
          "name": "stdout",
          "text": "Ç a n a k k a l e\n",
          "output_type": "stream"
        }
      ],
      "execution_count": 101
    },
    {
      "cell_type": "code",
      "source": "print(*\"Çanakkale\",sep=\"-\")",
      "metadata": {
        "trusted": true
      },
      "outputs": [
        {
          "name": "stdout",
          "text": "Ç-a-n-a-k-k-a-l-e\n",
          "output_type": "stream"
        }
      ],
      "execution_count": 102
    },
    {
      "cell_type": "markdown",
      "source": "#### Print Fonksiyonu ve Formatlama\n",
      "metadata": {}
    },
    {
      "cell_type": "markdown",
      "source": " ##### \"#\" işareti ile başlayan satırlar işleme konmaz. Çoğunlukla açıklama yapmak için kullanılır",
      "metadata": {}
    },
    {
      "cell_type": "markdown",
      "source": "#Kodlarımızı dosyalara yazdığımızda, eğer ekrana bir değer bastırmak istersek *print* fonksiyonunu kullanırız. \nKullanımı oldukça basittir ve değişik özelliklere sahiptir. Örneklerimize bakalım.\n",
      "metadata": {}
    },
    {
      "cell_type": "code",
      "source": "print(\"Merhaba Dünya\") #Tırnak içindeki mesajı ekrana yazar",
      "metadata": {
        "trusted": true
      },
      "outputs": [
        {
          "name": "stdout",
          "text": "Merhaba Dünya\n",
          "output_type": "stream"
        }
      ],
      "execution_count": 103
    },
    {
      "cell_type": "code",
      "source": "print('Merhaba Dünya') #Çift tırnak ile tek tırnak aynı işi görür",
      "metadata": {
        "trusted": true
      },
      "outputs": [
        {
          "name": "stdout",
          "text": "Merhaba Dünya\n",
          "output_type": "stream"
        }
      ],
      "execution_count": 104
    },
    {
      "cell_type": "code",
      "source": "print('''Merhaba Dünya''') # Üç tırnak da kullanılabilir :)",
      "metadata": {
        "trusted": true
      },
      "outputs": [
        {
          "name": "stdout",
          "text": "Merhaba Dünya\n",
          "output_type": "stream"
        }
      ],
      "execution_count": 105
    },
    {
      "cell_type": "code",
      "source": "# 3 tırnak genellikle çoklu satır yazmak için kullanılır.\n\nprint(''' MENÜ\n        ----------------------\n        1 - PARA ÇEKME\n        2-  PARA YATIRMA\n        3-  BAKİYE GÖRÜNTÜLE\n        4-  PARA AKTAR\n        5-  ÇIKIŞ \n        ----------------------\n        ''')",
      "metadata": {
        "trusted": true
      },
      "outputs": [
        {
          "name": "stdout",
          "text": " MENÜ\n        ----------------------\n        1 - PARA ÇEKME\n        2-  PARA YATIRMA\n        3-  BAKİYE GÖRÜNTÜLE\n        4-  PARA AKTAR\n        5-  ÇIKIŞ \n        ----------------------\n        \n",
          "output_type": "stream"
        }
      ],
      "execution_count": 106
    },
    {
      "cell_type": "code",
      "source": "print(\"Python programlama dilinin adı \"piton\" yılanından gelmez\") #Hata verir. Çift tırnak",
      "metadata": {
        "trusted": true
      },
      "outputs": [
        {
          "ename": "<class 'SyntaxError'>",
          "evalue": "invalid syntax. Perhaps you forgot a comma? (<ipython-input-107-1de9b7b9e17c>, line 1)",
          "traceback": [
            "\u001b[0;36m  Cell \u001b[0;32mIn[107], line 1\u001b[0;36m\u001b[0m\n\u001b[0;31m    print(\"Python programlama dilinin adı \"piton\" yılanından gelmez\") #Hata verir. Çift tırnak\u001b[0m\n\u001b[0m          ^\u001b[0m\n\u001b[0;31mSyntaxError\u001b[0m\u001b[0;31m:\u001b[0m invalid syntax. Perhaps you forgot a comma?\n"
          ],
          "output_type": "error"
        }
      ],
      "execution_count": 107
    },
    {
      "cell_type": "code",
      "source": "# Bu hatayı şu şekilde çözebiliriz",
      "metadata": {
        "trusted": true
      },
      "outputs": [],
      "execution_count": 108
    },
    {
      "cell_type": "code",
      "source": "print('Python programlama dilinin adı \"piton\" yılanından gelmez') # Tek tırnak ile başlayarak",
      "metadata": {
        "trusted": true
      },
      "outputs": [
        {
          "name": "stdout",
          "text": "Python programlama dilinin adı \"piton\" yılanından gelmez\n",
          "output_type": "stream"
        }
      ],
      "execution_count": 109
    },
    {
      "cell_type": "code",
      "source": "print('İstanbul'un 5 günlük hava durumu tahmini') # Hata verir",
      "metadata": {
        "trusted": true
      },
      "outputs": [
        {
          "ename": "<class 'SyntaxError'>",
          "evalue": "unterminated string literal (detected at line 1) (<ipython-input-110-d40911cae4e9>, line 1)",
          "traceback": [
            "\u001b[0;36m  Cell \u001b[0;32mIn[110], line 1\u001b[0;36m\u001b[0m\n\u001b[0;31m    print('İstanbul'un 5 günlük hava durumu tahmini') # Hata verir\u001b[0m\n\u001b[0m                                                   ^\u001b[0m\n\u001b[0;31mSyntaxError\u001b[0m\u001b[0;31m:\u001b[0m unterminated string literal (detected at line 1)\n"
          ],
          "output_type": "error"
        }
      ],
      "execution_count": 110
    },
    {
      "cell_type": "code",
      "source": "#ÇÖZÜM:\n print(\"İstanbul'un 5 günlük hava durumu tahmini\")",
      "metadata": {
        "trusted": true
      },
      "outputs": [
        {
          "ename": "<class 'IndentationError'>",
          "evalue": "unexpected indent (<ipython-input-111-8d2b1b287a33>, line 2)",
          "traceback": [
            "\u001b[0;36m  Cell \u001b[0;32mIn[111], line 2\u001b[0;36m\u001b[0m\n\u001b[0;31m    print(\"İstanbul'un 5 günlük hava durumu tahmini\")\u001b[0m\n\u001b[0m    ^\u001b[0m\n\u001b[0;31mIndentationError\u001b[0m\u001b[0;31m:\u001b[0m unexpected indent\n"
          ],
          "output_type": "error"
        }
      ],
      "execution_count": 111
    },
    {
      "cell_type": "code",
      "source": " # Aşağıdaki örnekte Hem tek tırnak, hem de çift tırnak kullanılmış",
      "metadata": {
        "trusted": true
      },
      "outputs": [],
      "execution_count": 112
    },
    {
      "cell_type": "code",
      "source": "print(\"O an Atatürk'ün \"Ne mutlu Türküm diyene\" sözü gelir\")  ",
      "metadata": {
        "trusted": true
      },
      "outputs": [
        {
          "ename": "<class 'SyntaxError'>",
          "evalue": "invalid syntax. Perhaps you forgot a comma? (<ipython-input-113-e441ad5af655>, line 1)",
          "traceback": [
            "\u001b[0;36m  Cell \u001b[0;32mIn[113], line 1\u001b[0;36m\u001b[0m\n\u001b[0;31m    print(\"O an Atatürk'ün \"Ne mutlu Türküm diyene\" sözü gelir\")\u001b[0m\n\u001b[0m          ^\u001b[0m\n\u001b[0;31mSyntaxError\u001b[0m\u001b[0;31m:\u001b[0m invalid syntax. Perhaps you forgot a comma?\n"
          ],
          "output_type": "error"
        }
      ],
      "execution_count": 113
    },
    {
      "cell_type": "markdown",
      "source": "### \\ (ters taksim) kaçış operatörü",
      "metadata": {}
    },
    {
      "cell_type": "code",
      "source": "print('Yarın Adana'ya gidiyorum.') #Hata",
      "metadata": {
        "trusted": true
      },
      "outputs": [
        {
          "ename": "<class 'SyntaxError'>",
          "evalue": "unterminated string literal (detected at line 1) (<ipython-input-114-a31144d47a13>, line 1)",
          "traceback": [
            "\u001b[0;36m  Cell \u001b[0;32mIn[114], line 1\u001b[0;36m\u001b[0m\n\u001b[0;31m    print('Yarın Adana'ya gidiyorum.') #Hata\u001b[0m\n\u001b[0m                                    ^\u001b[0m\n\u001b[0;31mSyntaxError\u001b[0m\u001b[0;31m:\u001b[0m unterminated string literal (detected at line 1)\n"
          ],
          "output_type": "error"
        }
      ],
      "execution_count": 114
    },
    {
      "cell_type": "code",
      "source": "print('Yarın Adana\\'ya gidiyorum.') #Hata giderildi",
      "metadata": {
        "trusted": true
      },
      "outputs": [
        {
          "name": "stdout",
          "text": "Yarın Adana'ya gidiyorum.\n",
          "output_type": "stream"
        }
      ],
      "execution_count": 115
    },
    {
      "cell_type": "code",
      "source": "print(\" \"book\" kelimesi Türkçede \"kitap\" anlamına gelir.\") #Hatalı",
      "metadata": {
        "trusted": true
      },
      "outputs": [
        {
          "ename": "<class 'SyntaxError'>",
          "evalue": "invalid syntax. Perhaps you forgot a comma? (<ipython-input-116-1b7411cc4121>, line 1)",
          "traceback": [
            "\u001b[0;36m  Cell \u001b[0;32mIn[116], line 1\u001b[0;36m\u001b[0m\n\u001b[0;31m    print(\" \"book\" kelimesi Türkçede \"kitap\" anlamına gelir.\") #Hatalı\u001b[0m\n\u001b[0m          ^\u001b[0m\n\u001b[0;31mSyntaxError\u001b[0m\u001b[0;31m:\u001b[0m invalid syntax. Perhaps you forgot a comma?\n"
          ],
          "output_type": "error"
        }
      ],
      "execution_count": 116
    },
    {
      "cell_type": "code",
      "source": "print(\"\\\"book\\\" kelimesi Türkçede \\\"kitap\\\" anlamına gelir.\")",
      "metadata": {
        "trusted": true
      },
      "outputs": [
        {
          "name": "stdout",
          "text": "\"book\" kelimesi Türkçede \"kitap\" anlamına gelir.\n",
          "output_type": "stream"
        }
      ],
      "execution_count": 117
    },
    {
      "cell_type": "code",
      "source": "#ya da daha kolayı şu: üç tırnak kullanımı\n\nprint(\"\"\"Python programlama dilinin adı \"piton\" yılanından gelmez\"\"\") #doğru kullanım",
      "metadata": {
        "trusted": true
      },
      "outputs": [
        {
          "name": "stdout",
          "text": "Python programlama dilinin adı \"piton\" yılanından gelmez\n",
          "output_type": "stream"
        }
      ],
      "execution_count": 118
    },
    {
      "cell_type": "code",
      "source": "print(\"\"\"İstanbul'un 5 günlük hava durumu tahmini\"\"\") #doğru kullanım",
      "metadata": {
        "trusted": true
      },
      "outputs": [
        {
          "name": "stdout",
          "text": "İstanbul'un 5 günlük hava durumu tahmini\n",
          "output_type": "stream"
        }
      ],
      "execution_count": 119
    },
    {
      "cell_type": "code",
      "source": "print(''' O an Atatürk'ün \"Ne mutlu Türküm diyene\" sözü gelir ''')",
      "metadata": {
        "trusted": true
      },
      "outputs": [
        {
          "name": "stdout",
          "text": " O an Atatürk'ün \"Ne mutlu Türküm diyene\" sözü gelir \n",
          "output_type": "stream"
        }
      ],
      "execution_count": 120
    },
    {
      "cell_type": "markdown",
      "source": "#### sep parametresi kullanımı ",
      "metadata": {}
    },
    {
      "cell_type": "code",
      "source": "print(\"http://\", \"www.\", \"istihza.\", \"com\") # Araya boşluk koyar",
      "metadata": {
        "trusted": true
      },
      "outputs": [
        {
          "name": "stdout",
          "text": "http:// www. istihza. com\n",
          "output_type": "stream"
        }
      ],
      "execution_count": 121
    },
    {
      "cell_type": "code",
      "source": "print(\"http://\", \"www.\", \"istihza.\", \"com\",sep=\"\") #sep parametresi ile boşluklar kalkıyor",
      "metadata": {
        "trusted": true
      },
      "outputs": [
        {
          "name": "stdout",
          "text": "http://www.istihza.com\n",
          "output_type": "stream"
        }
      ],
      "execution_count": 122
    },
    {
      "cell_type": "code",
      "source": "print(\"www\",\"okul\",\"meb\",\"k12\",\"tr\",sep=\"-\")",
      "metadata": {
        "trusted": true
      },
      "outputs": [
        {
          "name": "stdout",
          "text": "www-okul-meb-k12-tr\n",
          "output_type": "stream"
        }
      ],
      "execution_count": 123
    },
    {
      "cell_type": "code",
      "source": "print(\"www\",\"okul\",\"meb\",\"k12\",\"tr\",sep=\".\") #sep ile aralara nokta işareti koyalım",
      "metadata": {
        "trusted": true
      },
      "outputs": [
        {
          "name": "stdout",
          "text": "www.okul.meb.k12.tr\n",
          "output_type": "stream"
        }
      ],
      "execution_count": 124
    },
    {
      "cell_type": "code",
      "source": "print(1,2,3,4,5,6,sep=\" para \")",
      "metadata": {
        "trusted": true
      },
      "outputs": [
        {
          "name": "stdout",
          "text": "1 para 2 para 3 para 4 para 5 para 6\n",
          "output_type": "stream"
        }
      ],
      "execution_count": 125
    },
    {
      "cell_type": "code",
      "source": "#6' dan sonra da para yazması için end parametresi kullanılmalı. end sadece en sona ekleme yapar",
      "metadata": {
        "trusted": true
      },
      "outputs": [],
      "execution_count": 126
    },
    {
      "cell_type": "markdown",
      "source": "#### end parametresi",
      "metadata": {}
    },
    {
      "cell_type": "code",
      "source": "print(1,2,3,4,5,6, end=\" para\") #sadece en sona ekleme yapar",
      "metadata": {
        "trusted": true
      },
      "outputs": [
        {
          "name": "stdout",
          "text": "1 2 3 4 5 6 para",
          "output_type": "stream"
        }
      ],
      "execution_count": 127
    },
    {
      "cell_type": "code",
      "source": "print(1,2,3,4,5,6,sep=\" para \", end=\" para\")",
      "metadata": {
        "trusted": true
      },
      "outputs": [
        {
          "name": "stdout",
          "text": "1 para 2 para 3 para 4 para 5 para 6 para",
          "output_type": "stream"
        }
      ],
      "execution_count": 128
    },
    {
      "cell_type": "markdown",
      "source": "#### \\n ile yeni satır oluşturma (new line)",
      "metadata": {}
    },
    {
      "cell_type": "code",
      "source": "print(\"Taş Kağıt Makas\")     #tek satırda yazar",
      "metadata": {
        "trusted": true
      },
      "outputs": [
        {
          "name": "stdout",
          "text": "Taş Kağıt Makas\n",
          "output_type": "stream"
        }
      ],
      "execution_count": 129
    },
    {
      "cell_type": "code",
      "source": "print(\"Taş \\nKağıt \\nMakas\")     #Çoklu satırda yazar",
      "metadata": {
        "trusted": true
      },
      "outputs": [
        {
          "name": "stdout",
          "text": "Taş \nKağıt \nMakas\n",
          "output_type": "stream"
        }
      ],
      "execution_count": 130
    },
    {
      "cell_type": "code",
      "source": "print(\"birinci satır ikinci satır üçüncü satır\")",
      "metadata": {
        "trusted": true
      },
      "outputs": [
        {
          "name": "stdout",
          "text": "birinci satır ikinci satır üçüncü satır\n",
          "output_type": "stream"
        }
      ],
      "execution_count": 131
    },
    {
      "cell_type": "code",
      "source": "print(\"birinci satır \\nikinci satır \\nüçüncü satır\")",
      "metadata": {
        "trusted": true
      },
      "outputs": [
        {
          "name": "stdout",
          "text": "birinci satır \nikinci satır \nüçüncü satır\n",
          "output_type": "stream"
        }
      ],
      "execution_count": 132
    },
    {
      "cell_type": "markdown",
      "source": "#### \\t sekme oluşturma",
      "metadata": {}
    },
    {
      "cell_type": "code",
      "source": "print(\"abc\\tdef\")",
      "metadata": {
        "trusted": true
      },
      "outputs": [
        {
          "name": "stdout",
          "text": "abc\tdef\n",
          "output_type": "stream"
        }
      ],
      "execution_count": 133
    },
    {
      "cell_type": "code",
      "source": "print(\"bir\", \"iki\", \"üç\", sep=\"\\t\")",
      "metadata": {
        "trusted": true
      },
      "outputs": [
        {
          "name": "stdout",
          "text": "bir\tiki\tüç\n",
          "output_type": "stream"
        }
      ],
      "execution_count": 134
    },
    {
      "cell_type": "code",
      "source": "print(\"\"\"\n        ADI: Ali\n        SOYADI: GÜN\n        TEL: 533 222 11 00\n        \"\"\")",
      "metadata": {
        "trusted": true
      },
      "outputs": [
        {
          "name": "stdout",
          "text": "\n        ADI: Ali\n        SOYADI: GÜN\n        TEL: 533 222 11 00\n        \n",
          "output_type": "stream"
        }
      ],
      "execution_count": 135
    },
    {
      "cell_type": "code",
      "source": "print(\"\"\"\n        ADI\\t\\t: Ali\n        SOYADI\\t\\t: GÜN\n        TEL\\t\\t: 533 222 11 00\n        \"\"\")",
      "metadata": {
        "trusted": true
      },
      "outputs": [
        {
          "name": "stdout",
          "text": "\n        ADI\t\t: Ali\n        SOYADI\t\t: GÜN\n        TEL\t\t: 533 222 11 00\n        \n",
          "output_type": "stream"
        }
      ],
      "execution_count": 136
    },
    {
      "cell_type": "markdown",
      "source": "#### print Formatlama",
      "metadata": {}
    },
    {
      "cell_type": "markdown",
      "source": "Programlama yaparken bazı yerlerde bir stringin içinde daha önceden tanımlı string,float, int vs. değerleri yerleştirmek isteyebiliriz. \nBöyle durumlar için Pythonda *format()* fonksiyonu bulunmaktadır. \nÖrneğin, programımızda 3 tane tamsayı değerimiz var ve biz bunları bir string içinde ekrana basmak istiyoruz. \nBunun için *format()* fonksiyonunu kullanabiliriz. \n*format()* fonksiyonunun çok fazla özelliği olduğu için, ben burada sadece en çok kullandığımız özelliğini göstereceğim.",
      "metadata": {}
    },
    {
      "cell_type": "code",
      "source": "print(\"Merhaba {}\".format(\"Ali\"))",
      "metadata": {
        "trusted": true
      },
      "outputs": [
        {
          "name": "stdout",
          "text": "Merhaba Ali\n",
          "output_type": "stream"
        }
      ],
      "execution_count": 137
    },
    {
      "cell_type": "code",
      "source": "# Burada 3 tane süslü parantezimiz ({}) var ve bunların yerine sırasıyla format fonksiyonun içindeki değerler geçiyor.\n\"{} {} {}\".format(1,2,3)",
      "metadata": {
        "trusted": true
      },
      "outputs": [
        {
          "execution_count": 138,
          "output_type": "execute_result",
          "data": {
            "text/plain": "'1 2 3'"
          },
          "metadata": {}
        }
      ],
      "execution_count": 138
    },
    {
      "cell_type": "code",
      "source": "ad = \"Ali\"\nprint(\"Merhaba {}, nasılsın?\".format(ad))",
      "metadata": {
        "trusted": true
      },
      "outputs": [
        {
          "name": "stdout",
          "text": "Merhaba Ali, nasılsın?\n",
          "output_type": "stream"
        }
      ],
      "execution_count": 139
    },
    {
      "cell_type": "code",
      "source": "a = 3\nb = 4\nprint(\"{} + {} 'nin toplamı {} 'dır\".format(a,b,a+b))",
      "metadata": {
        "trusted": true
      },
      "outputs": [
        {
          "name": "stdout",
          "text": "3 + 4 'nin toplamı 7 'dır\n",
          "output_type": "stream"
        }
      ],
      "execution_count": 140
    },
    {
      "cell_type": "code",
      "source": "# Süslü parantezlerin içindeki sayılar format fonksiyonun içinden hangi sıradaki değerin geleceğini söylüyor.\n\"{1} {0} {2}\".format(43,\"Murat\",54)",
      "metadata": {
        "trusted": true
      },
      "outputs": [
        {
          "execution_count": 141,
          "output_type": "execute_result",
          "data": {
            "text/plain": "'Murat 43 54'"
          },
          "metadata": {}
        }
      ],
      "execution_count": 141
    },
    {
      "cell_type": "code",
      "source": "# Süslü parantezlerin içindeki kullanım ondalıklı kısmın sadece 2 basamağına kadar almak istediğimiz söylüyor.\n\"{:.2f} {:.2f} {:.3f}\".format(3.1463,5.324,7.324324)",
      "metadata": {
        "trusted": true
      },
      "outputs": [
        {
          "execution_count": 142,
          "output_type": "execute_result",
          "data": {
            "text/plain": "'3.15 5.32 7.324'"
          },
          "metadata": {}
        }
      ],
      "execution_count": 142
    },
    {
      "cell_type": "markdown",
      "source": "#### f parametre kullanımı",
      "metadata": {}
    },
    {
      "cell_type": "code",
      "source": "isim = 'Ali'\nprint(f'Selam {isim}!')",
      "metadata": {
        "trusted": true
      },
      "outputs": [
        {
          "name": "stdout",
          "text": "Selam Ali!\n",
          "output_type": "stream"
        }
      ],
      "execution_count": 143
    },
    {
      "cell_type": "code",
      "source": "isim = 'Ali'\nyas = 18\nprint(f'Onun adı {isim} ve o {yas} yaşında.')",
      "metadata": {
        "trusted": true
      },
      "outputs": [
        {
          "name": "stdout",
          "text": "Onun adı Ali ve o 18 yaşında.\n",
          "output_type": "stream"
        }
      ],
      "execution_count": 144
    },
    {
      "cell_type": "code",
      "source": "# Aynı örneği format() fonksiyonu ile de yazıp arasındaki farka bakalım:",
      "metadata": {
        "trusted": true
      },
      "outputs": [],
      "execution_count": 145
    },
    {
      "cell_type": "code",
      "source": "isim = 'Ali'\nyas = 18\nprint(\"Onun adı {} ve o {} yaşında.\".format(isim, yas))",
      "metadata": {
        "trusted": true
      },
      "outputs": [
        {
          "name": "stdout",
          "text": "Onun adı Ali ve o 18 yaşında.\n",
          "output_type": "stream"
        }
      ],
      "execution_count": 146
    },
    {
      "cell_type": "code",
      "source": "",
      "metadata": {
        "trusted": true
      },
      "outputs": [],
      "execution_count": null
    }
  ]
}