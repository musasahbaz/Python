{
  "metadata": {
    "kernelspec": {
      "display_name": "Python (Pyodide)",
      "language": "python",
      "name": "python"
    },
    "language_info": {
      "codemirror_mode": {
        "name": "python",
        "version": 3
      },
      "file_extension": ".py",
      "mimetype": "text/x-python",
      "name": "python",
      "nbconvert_exporter": "python",
      "pygments_lexer": "ipython3",
      "version": "3.8"
    }
  },
  "nbformat_minor": 4,
  "nbformat": 4,
  "cells": [
    {
      "cell_type": "markdown",
      "source": "# SAYILAR-METİNLER-DEĞİŞKENLER - print Fonksiyonu",
      "metadata": {}
    },
    {
      "cell_type": "code",
      "source": "a=10\nprint(a)",
      "metadata": {
        "trusted": true
      },
      "outputs": [],
      "execution_count": null
    },
    {
      "cell_type": "markdown",
      "source": " ### \"#\" işareti ile başlayan satırlar işleme konmaz. Çoğunlukla açıklama yapmak için kullanılır",
      "metadata": {}
    },
    {
      "cell_type": "code",
      "source": "a = 20\nb = a + 5     #a'nın 5 fazlasını b'ye atadı\nprint(b)",
      "metadata": {
        "trusted": true
      },
      "outputs": [],
      "execution_count": null
    },
    {
      "cell_type": "code",
      "source": "a= 10\nb = 40 \nc = a + b\nprint(\"SONUÇ = \" , c)",
      "metadata": {
        "trusted": true
      },
      "outputs": [],
      "execution_count": null
    },
    {
      "cell_type": "code",
      "source": "x = 13\nx = x + 1    #x'in değerini 1 arttır\nprint ( x )",
      "metadata": {
        "trusted": true
      },
      "outputs": [],
      "execution_count": null
    },
    {
      "cell_type": "code",
      "source": "x = 13\nx += 1      #x=x+1 ile aynı işi yapar\nprint(x)",
      "metadata": {
        "trusted": true
      },
      "outputs": [],
      "execution_count": null
    },
    {
      "cell_type": "code",
      "source": "x = 50\nx *= 2      #x'in değerini 2 katına çıkar\nprint(x)",
      "metadata": {
        "trusted": true
      },
      "outputs": [],
      "execution_count": null
    },
    {
      "cell_type": "code",
      "source": "x = 20\nx /= 3      #x'in değerini 3'e böl ve yeni değer bu olsun\nprint(x)",
      "metadata": {
        "trusted": true
      },
      "outputs": [],
      "execution_count": null
    },
    {
      "cell_type": "markdown",
      "source": "#### ÜS VE MOD",
      "metadata": {}
    },
    {
      "cell_type": "code",
      "source": "a = 12*12  # Çarpma işlemi\nprint(a)",
      "metadata": {
        "trusted": true
      },
      "outputs": [],
      "execution_count": null
    },
    {
      "cell_type": "code",
      "source": "a = 12**2 # Üs almak için ** kullanılır.\nprint(f\"{12} sayısının karesi = {a} dır\")",
      "metadata": {
        "trusted": true
      },
      "outputs": [],
      "execution_count": null
    },
    {
      "cell_type": "code",
      "source": "a = pow(12,2) # Üs almak için ** kullanılır.\nprint(f\"{12} sayısının karesi = {a} dır\") # pow() fonksiyonu da üs almak için kullanılabilir",
      "metadata": {
        "trusted": true
      },
      "outputs": [],
      "execution_count": null
    },
    {
      "cell_type": "code",
      "source": "a = 81**0.5     # 81**(1/2) ile aynı görevi yerine getirir.Karekökünü alır\n\nprint(f\"{81} sayısının kare kökü = {a} dır\")",
      "metadata": {
        "trusted": true
      },
      "outputs": [],
      "execution_count": null
    },
    {
      "cell_type": "code",
      "source": "print(pow(81,0.5))    #81 sayısının 2.dereceden kökünü alır",
      "metadata": {
        "trusted": true
      },
      "outputs": [],
      "execution_count": null
    },
    {
      "cell_type": "code",
      "source": "print( 26 % 7 )  #26 nın 7 ye bölümünden kalanı verir.Mod.",
      "metadata": {
        "trusted": true
      },
      "outputs": [],
      "execution_count": null
    },
    {
      "cell_type": "markdown",
      "source": "#### ÇOKLU DEĞİŞKENE DEĞER ATAMA",
      "metadata": {}
    },
    {
      "cell_type": "code",
      "source": "\nx=y=50 #Aynı değeri çoklu değişkenlere atama\n\nprint (x)\nprint (y)",
      "metadata": {
        "trusted": true
      },
      "outputs": [],
      "execution_count": null
    },
    {
      "cell_type": "code",
      "source": "x,y,z = 5,7,9 #farklı değeri çoklu değişkenlere atama\n\nprint (x)\nprint (y)",
      "metadata": {
        "trusted": true
      },
      "outputs": [],
      "execution_count": null
    },
    {
      "cell_type": "code",
      "source": "ocak = mart = mayıs = temmuz = ağustos = ekim = aralık = 31\nnisan = haziran = eylül = kasım = 30\nşubat = 29\n\nprint(eylül)",
      "metadata": {
        "trusted": true
      },
      "outputs": [],
      "execution_count": null
    },
    {
      "cell_type": "code",
      "source": "y1,y2,perf = 90,95,100\n\nprint (y1)\nprint (perf)\n\nort=(y1+y2+perf)/3\n\nprint (f\"ORTALAMA ={ort}\")",
      "metadata": {
        "trusted": true
      },
      "outputs": [],
      "execution_count": null
    },
    {
      "cell_type": "markdown",
      "source": "#### DEĞİŞKEN TAKASI",
      "metadata": {}
    },
    {
      "cell_type": "code",
      "source": "almanya =\"Paris\"\nfransa = \"Berlin\"    #Başkent eşleştirmesi yanlış\n\nalmanya, fransa = fransa, almanya      #değişken değerleri yer değiştiriyor\nprint(almanya)\nprint(fransa)",
      "metadata": {
        "trusted": true
      },
      "outputs": [],
      "execution_count": null
    },
    {
      "cell_type": "code",
      "source": "oyuncu=\"Yavuz Turgul\"\nyonetmen=\"Şener Şen\"\noyuncu,yonetmen = yonetmen,oyuncu #değerleri yer değiş\n\nprint( oyuncu )\n",
      "metadata": {
        "trusted": true
      },
      "outputs": [],
      "execution_count": null
    },
    {
      "cell_type": "markdown",
      "source": "#### TYPE FONKSİYONU()\n###### type() fonksiyonu değişkenin veri tipini verir.",
      "metadata": {}
    },
    {
      "cell_type": "code",
      "source": "adi = \"Ova\"\na = 50\npi = 3.14\nharf = \"e\"\n\nprint(type(adi)) \nprint(type(a))\nprint(type(pi))\nprint(type(harf))",
      "metadata": {
        "scrolled": true,
        "trusted": true
      },
      "outputs": [],
      "execution_count": null
    },
    {
      "cell_type": "markdown",
      "source": "#### LEN FONKSİYONU() \n##### Değişkenin string değer uzunluğunu verir. Sadece string değerlerde çalışır",
      "metadata": {}
    },
    {
      "cell_type": "code",
      "source": "a= len(\"Ankara\")\nprint (a)",
      "metadata": {
        "trusted": true
      },
      "outputs": [],
      "execution_count": null
    },
    {
      "cell_type": "code",
      "source": "sonuc=\"KALDI\"\nprint( len (sonuc))\n",
      "metadata": {
        "trusted": true
      },
      "outputs": [],
      "execution_count": null
    },
    {
      "cell_type": "code",
      "source": "yer=\"Kuzguncuk\" #String bir karakter dizisidir\nprint(yer[3]) #Dizinin 3.elemanı\nprint(yer[0])",
      "metadata": {
        "trusted": true
      },
      "outputs": [],
      "execution_count": null
    },
    {
      "cell_type": "code",
      "source": "len = \"Nasılsın?\"   #fonksiyon, değişken adı olarak kullanıldı",
      "metadata": {
        "trusted": true
      },
      "outputs": [],
      "execution_count": null
    },
    {
      "cell_type": "code",
      "source": "print(len)",
      "metadata": {
        "trusted": true
      },
      "outputs": [],
      "execution_count": null
    },
    {
      "cell_type": "code",
      "source": "len(\"Merhaba\") #artık fonksiyon olarak kullanılamıyor.",
      "metadata": {
        "trusted": true
      },
      "outputs": [],
      "execution_count": null
    },
    {
      "cell_type": "code",
      "source": "# Bu durumda len fonksiyonunun çalışabilmesi için aynı isimle oluşturulan değişkenin silinmesi gerekir",
      "metadata": {
        "trusted": true
      },
      "outputs": [],
      "execution_count": null
    },
    {
      "cell_type": "code",
      "source": "del (len)    # len isimli değişkeni sil",
      "metadata": {
        "trusted": true
      },
      "outputs": [],
      "execution_count": null
    },
    {
      "cell_type": "code",
      "source": "len (\"Merhaba\")  #şimdi yeniden fonksiyonu çalıştıralım",
      "metadata": {
        "trusted": true
      },
      "outputs": [],
      "execution_count": null
    },
    {
      "cell_type": "code",
      "source": "##### Bir örnek daha",
      "metadata": {
        "trusted": true
      },
      "outputs": [],
      "execution_count": null
    },
    {
      "cell_type": "code",
      "source": "type=\"Bilgisayar\" #fonksiyon, değişken adı olarak kullanıldı",
      "metadata": {
        "trusted": true
      },
      "outputs": [],
      "execution_count": null
    },
    {
      "cell_type": "code",
      "source": "type(ort) #artık fonksiyon olarak kullanılamıyor",
      "metadata": {
        "trusted": true
      },
      "outputs": [],
      "execution_count": null
    },
    {
      "cell_type": "code",
      "source": "del (type) #değişkeni siliyoruz",
      "metadata": {
        "trusted": true
      },
      "outputs": [],
      "execution_count": null
    },
    {
      "cell_type": "code",
      "source": "type(ort) #type artık fonksiyon",
      "metadata": {
        "trusted": true
      },
      "outputs": [],
      "execution_count": null
    },
    {
      "cell_type": "code",
      "source": "ort = 90\nprint ( ort)",
      "metadata": {
        "trusted": true
      },
      "outputs": [],
      "execution_count": null
    },
    {
      "cell_type": "code",
      "source": "del (ort)\nprint(ort)",
      "metadata": {
        "trusted": true
      },
      "outputs": [],
      "execution_count": null
    },
    {
      "cell_type": "markdown",
      "source": "##### TİP DÖNÜŞTÜRME",
      "metadata": {}
    },
    {
      "cell_type": "code",
      "source": "print( int(3.14) ) # 3.14 float sayısını bir alt tamsayı yapar (aşağı yuvarlar)",
      "metadata": {
        "trusted": true
      },
      "outputs": [],
      "execution_count": null
    },
    {
      "cell_type": "code",
      "source": "print( int(5.9) )",
      "metadata": {
        "trusted": true
      },
      "outputs": [],
      "execution_count": null
    },
    {
      "cell_type": "code",
      "source": "print( str(36) ) # integer olan tam sayıyı stringe dönüştür",
      "metadata": {
        "trusted": true
      },
      "outputs": [],
      "execution_count": null
    },
    {
      "cell_type": "code",
      "source": "print( float(15) ) # Tam sayıyı, floata çevir",
      "metadata": {
        "trusted": true
      },
      "outputs": [],
      "execution_count": null
    },
    {
      "cell_type": "code",
      "source": "pi=3.14\nprint( int(pi) )",
      "metadata": {
        "trusted": true
      },
      "outputs": [],
      "execution_count": null
    },
    {
      "cell_type": "markdown",
      "source": "#### round () fonksiyonu ile sayı yuvarlama",
      "metadata": {}
    },
    {
      "cell_type": "code",
      "source": "print( round(2.3) ) #round() yuvarla fonksiyonudur",
      "metadata": {
        "trusted": true
      },
      "outputs": [],
      "execution_count": null
    },
    {
      "cell_type": "code",
      "source": "print( round(2.8)) #Ondalıklı kısım 5'ten büyükse üst sayıya yuvarlar",
      "metadata": {
        "trusted": true
      },
      "outputs": [],
      "execution_count": null
    },
    {
      "cell_type": "code",
      "source": "print( round(2.4912,1)) #Ondalıklı kısmı 1 basamak yazar",
      "metadata": {
        "trusted": true
      },
      "outputs": [],
      "execution_count": null
    },
    {
      "cell_type": "code",
      "source": "print( round(2.421,2)) #Ondalıklı kısmı 2 basamak yaz",
      "metadata": {
        "trusted": true
      },
      "outputs": [],
      "execution_count": null
    },
    {
      "cell_type": "markdown",
      "source": "#### METİNLERLE ÇALIŞMA",
      "metadata": {}
    },
    {
      "cell_type": "code",
      "source": "adi=\"Kemal\"                       #adi isminde bir değişken tanımlandı ve değer atandı\nsoyadi=\"Sunal\"\nprint( adi)\n\n",
      "metadata": {
        "trusted": true
      },
      "outputs": [],
      "execution_count": null
    },
    {
      "cell_type": "code",
      "source": "adi=\"Kemal\"                       #adi isminde bir değişken tanımlandı ve değer atandı\nsoyadi=\"Sunal\"\nadiSoyadi = adi + soyadi         #adi ve soyadi değişkenleri birleştirildi ama boşluksuz\nprint (adiSoyadi)",
      "metadata": {
        "trusted": true
      },
      "outputs": [],
      "execution_count": null
    },
    {
      "cell_type": "code",
      "source": "adi=\"Kemal\"                       #adi isminde bir değişken tanımlandı ve değer atandı\nsoyadi=\"Sunal\"\nadiSoyadi=adi+\" \"+soyadi\nprint (adiSoyadi)",
      "metadata": {
        "trusted": true
      },
      "outputs": [],
      "execution_count": null
    },
    {
      "cell_type": "code",
      "source": "adi=\"Kemal\"                       #adi isminde bir değişken tanımlandı ve değer atandı\nsoyadi=\"Sunal\"\nprint(adi,soyadi)            # aralara boşluk ekleyerek yazar",
      "metadata": {
        "trusted": true
      },
      "outputs": [],
      "execution_count": null
    },
    {
      "cell_type": "code",
      "source": "print('Sabahattin', 'Ali') # Araya boşluk koyarak kelimeleri yazar",
      "metadata": {
        "trusted": true
      },
      "outputs": [],
      "execution_count": null
    },
    {
      "cell_type": "code",
      "source": " print('Peyami', 'Safa', 'İstanbul', 1899)",
      "metadata": {
        "trusted": true
      },
      "outputs": [],
      "execution_count": null
    },
    {
      "cell_type": "code",
      "source": "print(\"Ahmet\" + \" \" + \"Hamdi\" + \" \" +  \"TANPINAR\")               #bu şekilde de metin birleştirme yapılabilir",
      "metadata": {
        "trusted": true
      },
      "outputs": [],
      "execution_count": null
    },
    {
      "cell_type": "code",
      "source": "print( \"Oğuz\"+\"ATAY\" )  #metni birleştirir, boşluk bırakmaz",
      "metadata": {
        "trusted": true
      },
      "outputs": [],
      "execution_count": null
    },
    {
      "cell_type": "code",
      "source": "print ( 4+9 )",
      "metadata": {
        "trusted": true
      },
      "outputs": [],
      "execution_count": null
    },
    {
      "cell_type": "code",
      "source": "print ( 4+\"Oğuz\" )   # Matematiksel işlemler sadece sayısal değerlerde yapılabilir.",
      "metadata": {
        "trusted": true
      },
      "outputs": [],
      "execution_count": null
    },
    {
      "cell_type": "code",
      "source": "print (45+\"55\")   # İnterger ile String toplanamaz",
      "metadata": {
        "trusted": true
      },
      "outputs": [],
      "execution_count": null
    },
    {
      "cell_type": "code",
      "source": "print ( \"45\"+\"55\" )   # Tırnak içinde girilen değerler String olarak işlem görür",
      "metadata": {
        "trusted": true
      },
      "outputs": [],
      "execution_count": null
    },
    {
      "cell_type": "code",
      "source": "print ( \"Metin\"*5 )   # Belirtilen stringi 5 kere yaz",
      "metadata": {
        "trusted": true
      },
      "outputs": [],
      "execution_count": null
    },
    {
      "cell_type": "code",
      "source": "print ( \"=\" * 30 )",
      "metadata": {
        "trusted": true
      },
      "outputs": [],
      "execution_count": null
    },
    {
      "cell_type": "markdown",
      "source": "##### * oparetörünün metinlerle kullanımı",
      "metadata": {}
    },
    {
      "cell_type": "code",
      "source": "print(*\"Çanakkale\") ",
      "metadata": {
        "trusted": true
      },
      "outputs": [],
      "execution_count": null
    },
    {
      "cell_type": "code",
      "source": "print(*\"Çanakkale\")  #Karakterlere ayırır ve araya boşluk ekler",
      "metadata": {
        "trusted": true
      },
      "outputs": [],
      "execution_count": null
    },
    {
      "cell_type": "code",
      "source": "print(*\"Çanakkale\",sep=\"-\")",
      "metadata": {
        "trusted": true
      },
      "outputs": [],
      "execution_count": null
    },
    {
      "cell_type": "markdown",
      "source": "#### Print Fonksiyonu ve Formatlama\n",
      "metadata": {}
    },
    {
      "cell_type": "markdown",
      "source": " ##### \"#\" işareti ile başlayan satırlar işleme konmaz. Çoğunlukla açıklama yapmak için kullanılır",
      "metadata": {}
    },
    {
      "cell_type": "markdown",
      "source": "#Kodlarımızı dosyalara yazdığımızda, eğer ekrana bir değer bastırmak istersek *print* fonksiyonunu kullanırız. \nKullanımı oldukça basittir ve değişik özelliklere sahiptir. Örneklerimize bakalım.\n",
      "metadata": {}
    },
    {
      "cell_type": "code",
      "source": "print(\"Merhaba Dünya\") #Tırnak içindeki mesajı ekrana yazar",
      "metadata": {
        "trusted": true
      },
      "outputs": [],
      "execution_count": null
    },
    {
      "cell_type": "code",
      "source": "print('Merhaba Dünya') #Çift tırnak ile tek tırnak aynı işi görür",
      "metadata": {
        "trusted": true
      },
      "outputs": [],
      "execution_count": null
    },
    {
      "cell_type": "code",
      "source": "print('''Merhaba Dünya''') # Üç tırnak da kullanılabilir :)",
      "metadata": {
        "trusted": true
      },
      "outputs": [],
      "execution_count": null
    },
    {
      "cell_type": "code",
      "source": "# 3 tırnak genellikle çoklu satır yazmak için kullanılır.\n\nprint(''' MENÜ\n        ----------------------\n        1 - PARA ÇEKME\n        2-  PARA YATIRMA\n        3-  BAKİYE GÖRÜNTÜLE\n        4-  PARA AKTAR\n        5-  ÇIKIŞ \n        ----------------------\n        ''')",
      "metadata": {
        "trusted": true
      },
      "outputs": [],
      "execution_count": null
    },
    {
      "cell_type": "code",
      "source": "print(\"Python programlama dilinin adı \"piton\" yılanından gelmez\") #Hata verir. Çift tırnak",
      "metadata": {
        "trusted": true
      },
      "outputs": [],
      "execution_count": null
    },
    {
      "cell_type": "code",
      "source": "# Bu hatayı şu şekilde çözebiliriz",
      "metadata": {
        "trusted": true
      },
      "outputs": [],
      "execution_count": null
    },
    {
      "cell_type": "code",
      "source": "print('Python programlama dilinin adı \"piton\" yılanından gelmez') # Tek tırnak ile başlayarak",
      "metadata": {
        "trusted": true
      },
      "outputs": [],
      "execution_count": null
    },
    {
      "cell_type": "code",
      "source": "print('İstanbul'un 5 günlük hava durumu tahmini') # Hata verir",
      "metadata": {
        "trusted": true
      },
      "outputs": [],
      "execution_count": null
    },
    {
      "cell_type": "code",
      "source": "#ÇÖZÜM:\n print(\"İstanbul'un 5 günlük hava durumu tahmini\")",
      "metadata": {
        "trusted": true
      },
      "outputs": [],
      "execution_count": null
    },
    {
      "cell_type": "code",
      "source": " # Aşağıdaki örnekte Hem tek tırnak, hem de çift tırnak kullanılmış",
      "metadata": {
        "trusted": true
      },
      "outputs": [],
      "execution_count": null
    },
    {
      "cell_type": "code",
      "source": "print(\"O an Atatürk'ün \"Ne mutlu Türküm diyene\" sözü gelir\")  ",
      "metadata": {
        "trusted": true
      },
      "outputs": [],
      "execution_count": null
    },
    {
      "cell_type": "markdown",
      "source": "### \\ (ters taksim) kaçış operatörü",
      "metadata": {}
    },
    {
      "cell_type": "code",
      "source": "print('Yarın Adana'ya gidiyorum.') #Hata",
      "metadata": {
        "trusted": true
      },
      "outputs": [],
      "execution_count": null
    },
    {
      "cell_type": "code",
      "source": "print('Yarın Adana\\'ya gidiyorum.') #Hata giderildi",
      "metadata": {
        "trusted": true
      },
      "outputs": [],
      "execution_count": null
    },
    {
      "cell_type": "code",
      "source": "print(\" \"book\" kelimesi Türkçede \"kitap\" anlamına gelir.\") #Hatalı",
      "metadata": {
        "trusted": true
      },
      "outputs": [],
      "execution_count": null
    },
    {
      "cell_type": "code",
      "source": "print(\"\\\"book\\\" kelimesi Türkçede \\\"kitap\\\" anlamına gelir.\")",
      "metadata": {
        "trusted": true
      },
      "outputs": [],
      "execution_count": null
    },
    {
      "cell_type": "code",
      "source": "#ya da daha kolayı şu: üç tırnak kullanımı\n\nprint(\"\"\"Python programlama dilinin adı \"piton\" yılanından gelmez\"\"\") #doğru kullanım",
      "metadata": {
        "trusted": true
      },
      "outputs": [],
      "execution_count": null
    },
    {
      "cell_type": "code",
      "source": "print(\"\"\"İstanbul'un 5 günlük hava durumu tahmini\"\"\") #doğru kullanım",
      "metadata": {
        "trusted": true
      },
      "outputs": [],
      "execution_count": null
    },
    {
      "cell_type": "code",
      "source": "print(''' O an Atatürk'ün \"Ne mutlu Türküm diyene\" sözü gelir ''')",
      "metadata": {
        "trusted": true
      },
      "outputs": [],
      "execution_count": null
    },
    {
      "cell_type": "markdown",
      "source": "#### sep parametresi kullanımı ",
      "metadata": {}
    },
    {
      "cell_type": "code",
      "source": "print(\"http://\", \"www.\", \"istihza.\", \"com\") # Araya boşluk koyar",
      "metadata": {
        "trusted": true
      },
      "outputs": [],
      "execution_count": null
    },
    {
      "cell_type": "code",
      "source": "print(\"http://\", \"www.\", \"istihza.\", \"com\",sep=\"\") #sep parametresi ile boşluklar kalkıyor",
      "metadata": {
        "trusted": true
      },
      "outputs": [],
      "execution_count": null
    },
    {
      "cell_type": "code",
      "source": "print(\"www\",\"okul\",\"meb\",\"k12\",\"tr\",sep=\"-\")",
      "metadata": {
        "trusted": true
      },
      "outputs": [],
      "execution_count": null
    },
    {
      "cell_type": "code",
      "source": "print(\"www\",\"okul\",\"meb\",\"k12\",\"tr\",sep=\".\") #sep ile aralara nokta işareti koyalım",
      "metadata": {
        "trusted": true
      },
      "outputs": [],
      "execution_count": null
    },
    {
      "cell_type": "code",
      "source": "print(1,2,3,4,5,6,sep=\" para \")",
      "metadata": {
        "trusted": true
      },
      "outputs": [],
      "execution_count": null
    },
    {
      "cell_type": "code",
      "source": "#6' dan sonra da para yazması için end parametresi kullanılmalı. end sadece en sona ekleme yapar",
      "metadata": {
        "trusted": true
      },
      "outputs": [],
      "execution_count": null
    },
    {
      "cell_type": "markdown",
      "source": "#### end parametresi",
      "metadata": {}
    },
    {
      "cell_type": "code",
      "source": "print(1,2,3,4,5,6, end=\" para\") #sadece en sona ekleme yapar",
      "metadata": {
        "trusted": true
      },
      "outputs": [],
      "execution_count": null
    },
    {
      "cell_type": "code",
      "source": "print(1,2,3,4,5,6,sep=\" para \", end=\" para\")",
      "metadata": {
        "trusted": true
      },
      "outputs": [],
      "execution_count": null
    },
    {
      "cell_type": "markdown",
      "source": "#### \\n ile yeni satır oluşturma (new line)",
      "metadata": {}
    },
    {
      "cell_type": "code",
      "source": "print(\"Taş Kağıt Makas\")     #tek satırda yazar",
      "metadata": {
        "trusted": true
      },
      "outputs": [],
      "execution_count": null
    },
    {
      "cell_type": "code",
      "source": "print(\"Taş \\nKağıt \\nMakas\")     #Çoklu satırda yazar",
      "metadata": {
        "trusted": true
      },
      "outputs": [],
      "execution_count": null
    },
    {
      "cell_type": "code",
      "source": "print(\"birinci satır ikinci satır üçüncü satır\")",
      "metadata": {
        "trusted": true
      },
      "outputs": [],
      "execution_count": null
    },
    {
      "cell_type": "code",
      "source": "print(\"birinci satır \\nikinci satır \\nüçüncü satır\")",
      "metadata": {
        "trusted": true
      },
      "outputs": [],
      "execution_count": null
    },
    {
      "cell_type": "markdown",
      "source": "#### \\t sekme oluşturma",
      "metadata": {}
    },
    {
      "cell_type": "code",
      "source": "print(\"abc\\tdef\")",
      "metadata": {
        "trusted": true
      },
      "outputs": [],
      "execution_count": null
    },
    {
      "cell_type": "code",
      "source": "print(\"bir\", \"iki\", \"üç\", sep=\"\\t\")",
      "metadata": {
        "trusted": true
      },
      "outputs": [],
      "execution_count": null
    },
    {
      "cell_type": "code",
      "source": "print(\"\"\"\n        ADI: Ali\n        SOYADI: GÜN\n        TEL: 533 222 11 00\n        \"\"\")",
      "metadata": {
        "trusted": true
      },
      "outputs": [],
      "execution_count": null
    },
    {
      "cell_type": "code",
      "source": "print(\"\"\"\n        ADI\\t\\t: Ali\n        SOYADI\\t\\t: GÜN\n        TEL\\t\\t: 533 222 11 00\n        \"\"\")",
      "metadata": {
        "trusted": true
      },
      "outputs": [],
      "execution_count": null
    },
    {
      "cell_type": "markdown",
      "source": "#### print Formatlama",
      "metadata": {}
    },
    {
      "cell_type": "markdown",
      "source": "Programlama yaparken bazı yerlerde bir stringin içinde daha önceden tanımlı string,float, int vs. değerleri yerleştirmek isteyebiliriz. \nBöyle durumlar için Pythonda *format()* fonksiyonu bulunmaktadır. \nÖrneğin, programımızda 3 tane tamsayı değerimiz var ve biz bunları bir string içinde ekrana basmak istiyoruz. \nBunun için *format()* fonksiyonunu kullanabiliriz. \n*format()* fonksiyonunun çok fazla özelliği olduğu için, ben burada sadece en çok kullandığımız özelliğini göstereceğim.",
      "metadata": {}
    },
    {
      "cell_type": "code",
      "source": "print(\"Merhaba {}\".format(\"Ali\"))",
      "metadata": {
        "trusted": true
      },
      "outputs": [],
      "execution_count": null
    },
    {
      "cell_type": "code",
      "source": "# Burada 3 tane süslü parantezimiz ({}) var ve bunların yerine sırasıyla format fonksiyonun içindeki değerler geçiyor.\n\"{} {} {}\".format(1,2,3)",
      "metadata": {
        "trusted": true
      },
      "outputs": [],
      "execution_count": null
    },
    {
      "cell_type": "code",
      "source": "ad = \"Ali\"\nprint(\"Merhaba {}, nasılsın?\".format(ad))",
      "metadata": {
        "trusted": true
      },
      "outputs": [],
      "execution_count": null
    },
    {
      "cell_type": "code",
      "source": "a = 3\nb = 4\nprint(\"{} + {} 'nin toplamı {} 'dır\".format(a,b,a+b))",
      "metadata": {
        "trusted": true
      },
      "outputs": [],
      "execution_count": null
    },
    {
      "cell_type": "code",
      "source": "# Süslü parantezlerin içindeki sayılar format fonksiyonun içinden hangi sıradaki değerin geleceğini söylüyor.\n\"{1} {0} {2}\".format(43,\"Murat\",54)",
      "metadata": {
        "trusted": true
      },
      "outputs": [],
      "execution_count": null
    },
    {
      "cell_type": "code",
      "source": "# Süslü parantezlerin içindeki kullanım ondalıklı kısmın sadece 2 basamağına kadar almak istediğimiz söylüyor.\n\"{:.2f} {:.2f} {:.3f}\".format(3.1463,5.324,7.324324)",
      "metadata": {
        "trusted": true
      },
      "outputs": [],
      "execution_count": null
    },
    {
      "cell_type": "markdown",
      "source": "#### f parametre kullanımı",
      "metadata": {}
    },
    {
      "cell_type": "code",
      "source": "isim = 'Ali'\nprint(f'Selam {isim}!')",
      "metadata": {
        "trusted": true
      },
      "outputs": [],
      "execution_count": null
    },
    {
      "cell_type": "code",
      "source": "isim = 'Ali'\nyas = 18\nprint(f'Onun adı {isim} ve o {yas} yaşında.')",
      "metadata": {
        "trusted": true
      },
      "outputs": [],
      "execution_count": null
    },
    {
      "cell_type": "code",
      "source": "# Aynı örneği format() fonksiyonu ile de yazıp arasındaki farka bakalım:",
      "metadata": {
        "trusted": true
      },
      "outputs": [],
      "execution_count": null
    },
    {
      "cell_type": "code",
      "source": "isim = 'Ali'\nyas = 18\nprint(\"Onun adı {} ve o {} yaşında.\".format(isim, yas))",
      "metadata": {
        "trusted": true
      },
      "outputs": [],
      "execution_count": null
    },
    {
      "cell_type": "code",
      "source": "",
      "metadata": {
        "trusted": true
      },
      "outputs": [],
      "execution_count": null
    }
  ]
}