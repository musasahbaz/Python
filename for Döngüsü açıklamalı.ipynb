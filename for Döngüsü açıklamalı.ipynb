{
  "cells": [
    {
      "cell_type": "markdown",
      "metadata": {},
      "source": [
        "# for Döngüsü"
      ]
    },
    {
      "cell_type": "markdown",
      "metadata": {},
      "source": [
        "#### in komutu kullanımı"
      ]
    },
    {
      "cell_type": "code",
      "execution_count": null,
      "metadata": {
        "trusted": true
      },
      "outputs": [
        {
          "name": "stdout",
          "output_type": "stream",
          "text": [
            "A\n"
          ]
        }
      ],
      "source": [
        "# \"Lizbon\" kelimesi içinde \"z\" harfi varsa ekrana \"A\" yazar, yoksa \"B\" yazar\n",
        "\n",
        "if \"z\" in \"Lizbon\":\n",
        "    print(\"A\")\n",
        "else:\n",
        "    print(\"B\")"
      ]
    },
    {
      "cell_type": "code",
      "execution_count": null,
      "metadata": {
        "trusted": true
      },
      "outputs": [
        {
          "name": "stdout",
          "output_type": "stream",
          "text": [
            "A\n"
          ]
        }
      ],
      "source": [
        "# \"istihza.com\" kelimesi içinde \"h\" harfi varsa ekrana \"A\" yazar, yoksa \"B\" yazar\n",
        "\n",
        "x = \"istihza.com\"\n",
        "if \"h\" in x:\n",
        "    print(\"A\")\n",
        "else:\n",
        "    print(\"B\")"
      ]
    },
    {
      "cell_type": "markdown",
      "metadata": {},
      "source": [
        "### String ile kullanımı"
      ]
    },
    {
      "cell_type": "code",
      "execution_count": 3,
      "metadata": {
        "trusted": true
      },
      "outputs": [
        {
          "name": "stdout",
          "output_type": "stream",
          "text": [
            "U\n",
            "r\n",
            "l\n",
            "a\n"
          ]
        }
      ],
      "source": [
        "for i in \"Urla\":\n",
        "    print (i)"
      ]
    },
    {
      "cell_type": "code",
      "execution_count": 4,
      "metadata": {
        "trusted": true
      },
      "outputs": [
        {
          "name": "stdout",
          "output_type": "stream",
          "text": [
            "ş\n",
            "ç\n",
            "ö\n",
            "ğ\n",
            "ü\n",
            "İ\n",
            "ı\n"
          ]
        }
      ],
      "source": [
        "tr = \"şçöğüİı\"\n",
        "\n",
        "for i in tr:\n",
        "    print(i)"
      ]
    },
    {
      "cell_type": "code",
      "execution_count": 5,
      "metadata": {
        "trusted": true
      },
      "outputs": [
        {
          "name": "stdout",
          "output_type": "stream",
          "text": [
            "şçöğüİı"
          ]
        }
      ],
      "source": [
        "tr = \"şçöğüİı\"\n",
        "\n",
        "for i in tr:\n",
        "    print(i,end=\"\")"
      ]
    },
    {
      "cell_type": "code",
      "execution_count": 6,
      "metadata": {
        "trusted": true
      },
      "outputs": [
        {
          "ename": "TypeError",
          "evalue": "'int' object is not iterable",
          "output_type": "error",
          "traceback": [
            "\u001b[1;31m---------------------------------------------------------------------------\u001b[0m",
            "\u001b[1;31mTypeError\u001b[0m                                 Traceback (most recent call last)",
            "Cell \u001b[1;32mIn[6], line 2\u001b[0m\n\u001b[0;32m      1\u001b[0m sayılar \u001b[38;5;241m=\u001b[39m \u001b[38;5;241m123456789\u001b[39m\n\u001b[1;32m----> 2\u001b[0m \u001b[38;5;28;43;01mfor\u001b[39;49;00m\u001b[43m \u001b[49m\u001b[43msayı\u001b[49m\u001b[43m \u001b[49m\u001b[38;5;129;43;01min\u001b[39;49;00m\u001b[43m \u001b[49m\u001b[43msayılar\u001b[49m\u001b[43m:\u001b[49m\n\u001b[0;32m      3\u001b[0m \u001b[43m    \u001b[49m\u001b[38;5;28;43mprint\u001b[39;49m\u001b[43m(\u001b[49m\u001b[43msayı\u001b[49m\u001b[43m)\u001b[49m\n",
            "\u001b[1;31mTypeError\u001b[0m: 'int' object is not iterable"
          ]
        }
      ],
      "source": [
        "sayılar = 123456789\n",
        "for sayı in sayılar:\n",
        "    print(sayı)"
      ]
    },
    {
      "cell_type": "code",
      "execution_count": null,
      "metadata": {
        "trusted": true
      },
      "outputs": [],
      "source": [
        "tr_hafler = \"ğüöşçıİĞÜÖÇŞ\"\n",
        "\n",
        "parola = input(\"YENİ PAROLANIZI GİRİNİZ : \")\n",
        "\n",
        "for i in parola:\n",
        "    if i in tr_hafler:\n",
        "        print(\"Parola içinde Türkçe karakter kullanmayınız. Geçersiz karakter\",i)\n",
        "        #break\n",
        "    else : \n",
        "        print(\"Parolanız başarılı bir şekilde oluşturuldu.\")\n",
        "    \n"
      ]
    },
    {
      "cell_type": "markdown",
      "metadata": {},
      "source": [
        "### Liste ile kullanımı"
      ]
    },
    {
      "cell_type": "code",
      "execution_count": null,
      "metadata": {
        "trusted": true
      },
      "outputs": [
        {
          "name": "stdout",
          "output_type": "stream",
          "text": [
            "6\n",
            "9\n",
            "3\n",
            "5\n",
            "Ali\n",
            "Ece\n",
            "Nil\n"
          ]
        }
      ],
      "source": [
        "#a listesinin elemanlarını sırayla yazdırır\n",
        "\n",
        "a = [6,9,3,5,\"Ali\", \"Ece\",\"Nil\"]\n",
        "\n",
        "for i in a :\n",
        "    print(i)"
      ]
    },
    {
      "cell_type": "markdown",
      "metadata": {},
      "source": [
        "### Tupple ile kullanımı"
      ]
    },
    {
      "cell_type": "code",
      "execution_count": null,
      "metadata": {
        "trusted": true
      },
      "outputs": [
        {
          "name": "stdout",
          "output_type": "stream",
          "text": [
            "Van\n",
            "Muş\n",
            "Rize\n",
            "2\n",
            "7\n",
            "3\n",
            "4\n"
          ]
        }
      ],
      "source": [
        "#b tupple'ının  elemanlarını sırayla yazdırır\n",
        "\n",
        "b = (\"Van\",\"Muş\",\"Rize\",2,7,3,4 )\n",
        "\n",
        "for i in b :\n",
        "    print(i)"
      ]
    },
    {
      "cell_type": "markdown",
      "metadata": {},
      "source": [
        "### range Fonksiyonu"
      ]
    },
    {
      "cell_type": "code",
      "execution_count": 3,
      "metadata": {
        "trusted": true
      },
      "outputs": [
        {
          "name": "stdout",
          "output_type": "stream",
          "text": [
            "0\n",
            "1\n",
            "2\n",
            "3\n",
            "4\n",
            "5\n",
            "6\n",
            "7\n",
            "8\n",
            "9\n"
          ]
        }
      ],
      "source": [
        "for i in range(0, 10):\n",
        "    print(i)"
      ]
    },
    {
      "cell_type": "code",
      "execution_count": null,
      "metadata": {},
      "outputs": [],
      "source": [
        "### for i in range(başlangıç, bitiş, artış miktarı)"
      ]
    },
    {
      "cell_type": "code",
      "execution_count": 6,
      "metadata": {
        "trusted": true
      },
      "outputs": [
        {
          "name": "stdout",
          "output_type": "stream",
          "text": [
            "0\n",
            "5\n",
            "10\n",
            "15\n",
            "20\n",
            "25\n",
            "30\n",
            "35\n",
            "40\n",
            "45\n"
          ]
        }
      ],
      "source": [
        "for i in range(0, 50,5):\n",
        "    print(i)"
      ]
    },
    {
      "cell_type": "code",
      "execution_count": 7,
      "metadata": {
        "trusted": true
      },
      "outputs": [
        {
          "name": "stdout",
          "output_type": "stream",
          "text": [
            "10\n",
            "9\n",
            "8\n",
            "7\n",
            "6\n",
            "5\n",
            "4\n",
            "3\n",
            "2\n",
            "1\n"
          ]
        }
      ],
      "source": [
        "for i in range(10,0,-1):\n",
        "    print(i)"
      ]
    },
    {
      "cell_type": "markdown",
      "metadata": {},
      "source": [
        "#### break komutu kullanımı (Döngüyü bitir)"
      ]
    },
    {
      "cell_type": "code",
      "execution_count": null,
      "metadata": {
        "trusted": true
      },
      "outputs": [
        {
          "name": "stdout",
          "output_type": "stream",
          "text": [
            "DÖNGÜ DEĞERİ =  0\n",
            "DÖNGÜ DEĞERİ =  1\n",
            "DÖNGÜ DEĞERİ =  2\n",
            "DÖNGÜ DEĞERİ =  3\n",
            "DÖNGÜ DEĞERİ =  4\n",
            "DÖNGÜ DEĞERİ =  5\n",
            "DÖNGÜ DEĞERİ =  6\n"
          ]
        }
      ],
      "source": [
        "for i in range(10):\n",
        "    if i == 7:\n",
        "        break  # Değer 7 olduğunda döngüyü bitir\n",
        "    else:\n",
        "        print(\"DÖNGÜ DEĞERİ = \", i)\n",
        "        \n",
        "# döngü değeri 7 olduğu anda döngü biter, sonraki değerler işleme sokulmaz"
      ]
    },
    {
      "cell_type": "markdown",
      "metadata": {},
      "source": [
        "### contiune komutu kullanımı (Döngüdeki istediğin değeri işleme sokmadan geç)"
      ]
    },
    {
      "cell_type": "code",
      "execution_count": null,
      "metadata": {
        "trusted": true
      },
      "outputs": [
        {
          "name": "stdout",
          "output_type": "stream",
          "text": [
            "This is iteration 0\n",
            "This is iteration 1\n",
            "This is iteration 2\n",
            "This is iteration 3\n",
            "This is iteration 4\n",
            "This is iteration 5\n",
            "This is iteration 6\n",
            "This is iteration 8\n",
            "This is iteration 9\n"
          ]
        }
      ],
      "source": [
        "for i in range(10):\n",
        "    if i == 7:\n",
        "        continue  # Değer 7 olduğunda döngünün başına git ve bir sonraki değere geç\n",
        "    else:\n",
        "        print(\"This is iteration\", i)\n",
        "\n",
        "# sadece 7 değeri işlem yapmaz, diğerleri çalıştırılır. "
      ]
    },
    {
      "cell_type": "code",
      "execution_count": null,
      "metadata": {
        "trusted": true
      },
      "outputs": [
        {
          "name": "stdout",
          "output_type": "stream",
          "text": [
            "Giriş yapmak için 3 deneme hakkınız vardır.\n"
          ]
        }
      ],
      "source": [
        "user = \"Admin\"\n",
        "password = \"1234\"\n",
        "\n",
        "print(\"Giriş yapmak için 3 deneme hakkınız vardır.\")\n",
        "\n",
        "for i in range(3):\n",
        "    ad = input(\"Kullanıcı adınızı giriniz : \")\n",
        "    sifre = input(\"Şifrenizi giriniz : \")\n",
        "    \n",
        "    if ad == user and sifre == password :\n",
        "        print(\"Başarılı bir şekilde giriş yapıldı.\")\n",
        "        print(\"------------------------------------\")\n",
        "\n",
        "        break\n",
        "    \n",
        "    elif ad != user or sifre != password :\n",
        "        print(\"Kullanıcı adı ya da şifre hatalı! \")\n",
        "        print(\"------------------------------------\")\n",
        "        \n",
        "    if i == 2:\n",
        "        print(\"Giriş hakkınız bitti!!!\")"
      ]
    },
    {
      "cell_type": "code",
      "execution_count": null,
      "metadata": {
        "trusted": true
      },
      "outputs": [],
      "source": []
    }
  ],
  "metadata": {
    "kernelspec": {
      "display_name": "spyder-runtime",
      "language": "python",
      "name": "python3"
    },
    "language_info": {
      "codemirror_mode": {
        "name": "ipython",
        "version": 3
      },
      "file_extension": ".py",
      "mimetype": "text/x-python",
      "name": "python",
      "nbconvert_exporter": "python",
      "pygments_lexer": "ipython3",
      "version": "3.11.11"
    }
  },
  "nbformat": 4,
  "nbformat_minor": 4
}
