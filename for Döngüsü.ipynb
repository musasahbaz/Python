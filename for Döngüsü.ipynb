{
  "metadata": {
    "kernelspec": {
      "name": "python",
      "display_name": "Python (Pyodide)",
      "language": "python"
    },
    "language_info": {
      "name": "python",
      "version": "3.11.9"
    }
  },
  "nbformat_minor": 4,
  "nbformat": 4,
  "cells": [
    {
      "cell_type": "markdown",
      "source": "# for Döngüsü",
      "metadata": {}
    },
    {
      "cell_type": "markdown",
      "source": "#### in komutu kullanımı",
      "metadata": {}
    },
    {
      "cell_type": "code",
      "source": "if \"z\" in \"Lizbon\":\n    print(\"A\")\nelse:\n    print(\"B\")",
      "metadata": {
        "trusted": true
      },
      "outputs": [],
      "execution_count": null
    },
    {
      "cell_type": "code",
      "source": "x = \"istihza.com\"\nif \"h\" in x:\n    print(\"A\")\nelse:\n    print(\"B\")",
      "metadata": {
        "trusted": true
      },
      "outputs": [],
      "execution_count": null
    },
    {
      "cell_type": "markdown",
      "source": "### String ile kullanımı",
      "metadata": {}
    },
    {
      "cell_type": "code",
      "source": "for i in \"Urla\":\n    print (i)",
      "metadata": {
        "trusted": true
      },
      "outputs": [],
      "execution_count": null
    },
    {
      "cell_type": "code",
      "source": "tr = \"şçöğüİı\"\n\nfor i in tr:\n    print(i)",
      "metadata": {
        "trusted": true
      },
      "outputs": [],
      "execution_count": null
    },
    {
      "cell_type": "code",
      "source": "tr = \"şçöğüİı\"\n\nfor i in tr:\n    print(i,end=\"\")",
      "metadata": {
        "trusted": true
      },
      "outputs": [],
      "execution_count": null
    },
    {
      "cell_type": "code",
      "source": "sayılar = 123456789\nfor sayı in sayılar:\n    print(sayı)",
      "metadata": {
        "trusted": true
      },
      "outputs": [],
      "execution_count": null
    },
    {
      "cell_type": "code",
      "source": "tr_hafler = \"ğüöşçıİĞÜÖÇŞ\"\n\nparola = input(\"YENİ PAROLANIZI GİRİNİZ : \")\n\nfor i in parola:\n    if i in tr_hafler:\n        print(\"Parola içinde Türkçe karakter kullanmayınız. Geçersiz karakter\",i)\n        #break\n    else : \n        print(\"Parolanız başarılı bir şekilde oluşturuldu.\")\n    \n",
      "metadata": {
        "trusted": true
      },
      "outputs": [],
      "execution_count": null
    },
    {
      "cell_type": "markdown",
      "source": "### Liste ile kullanımı",
      "metadata": {}
    },
    {
      "cell_type": "code",
      "source": "a = [6,9,3,5,\"Ali\", \"Ece\",\"Nil\"]\n\nfor i in a :\n    print(i)",
      "metadata": {
        "trusted": true
      },
      "outputs": [],
      "execution_count": null
    },
    {
      "cell_type": "markdown",
      "source": "### Tupple ile kullanımı",
      "metadata": {}
    },
    {
      "cell_type": "code",
      "source": "b = (\"Van\",\"Muş\",\"Rize\",2,7,3,4 )\n\nfor i in b :\n    print(i)",
      "metadata": {
        "trusted": true
      },
      "outputs": [],
      "execution_count": null
    },
    {
      "cell_type": "markdown",
      "source": "### range Fonksiyonu",
      "metadata": {}
    },
    {
      "cell_type": "code",
      "source": "for i in range(0, 10):\n    print(i)",
      "metadata": {
        "trusted": true
      },
      "outputs": [],
      "execution_count": null
    },
    {
      "cell_type": "code",
      "source": "for i in range(0, 50,5):\n    print(i)",
      "metadata": {
        "trusted": true
      },
      "outputs": [],
      "execution_count": null
    },
    {
      "cell_type": "code",
      "source": "for i in range(10,0,-1):\n    print(i)",
      "metadata": {
        "trusted": true
      },
      "outputs": [],
      "execution_count": null
    },
    {
      "cell_type": "markdown",
      "source": "#### break komutu kullanımı",
      "metadata": {}
    },
    {
      "cell_type": "code",
      "source": "for i in range(10):\n    if i == 7:\n        break  # Değer 7 olduğunda döngüyü bitir\n    else:\n        print(\"DÖNGÜ DEĞERİ = \", i)\n        \n",
      "metadata": {
        "trusted": true
      },
      "outputs": [],
      "execution_count": null
    },
    {
      "cell_type": "markdown",
      "source": "### contiune komutu kullanımı",
      "metadata": {}
    },
    {
      "cell_type": "code",
      "source": "for i in range(10):\n    if i == 7:\n        continue  # Değer 7 olduğunda döngünün başına git ve bir sonraki değere geç\n    else:\n        print(\"This is iteration\", i)",
      "metadata": {
        "trusted": true
      },
      "outputs": [],
      "execution_count": null
    },
    {
      "cell_type": "code",
      "source": "user = \"Admin\"\npassword = \"1234\"\n\nprint(\"Giriş yapmak için 3 deneme hakkınız vardır.\")\n\nfor i in range(3):\n    ad = input(\"Kullanıcı adınızı giriniz : \")\n    sifre = input(\"Şifrenizi giriniz : \")\n    \n    if ad == user and sifre == password :\n        print(\"Başarılı bir şekilde giriş yapıldı.\")\n        print(\"------------------------------------\")\n\n        break\n    \n    elif ad != user or sifre != password :\n        print(\"Kullanıcı adı ya da şifre hatalı! \")\n        print(\"------------------------------------\")\n        \n    if i == 2:\n        print(\"Giriş hakkınız bitti!!!\")",
      "metadata": {
        "trusted": true
      },
      "outputs": [],
      "execution_count": null
    },
    {
      "cell_type": "code",
      "source": "",
      "metadata": {
        "trusted": true
      },
      "outputs": [],
      "execution_count": null
    }
  ]
}