{
  "metadata": {
    "kernelspec": {
      "name": "python",
      "display_name": "Python (Pyodide)",
      "language": "python"
    },
    "language_info": {
      "codemirror_mode": {
        "name": "python",
        "version": 3
      },
      "file_extension": ".py",
      "mimetype": "text/x-python",
      "name": "python",
      "nbconvert_exporter": "python",
      "pygments_lexer": "ipython3",
      "version": "3.8"
    }
  },
  "nbformat_minor": 4,
  "nbformat": 4,
  "cells": [
    {
      "cell_type": "markdown",
      "source": "SAYILAR-METİNLER-DEĞİŞKENLER",
      "metadata": {}
    },
    {
      "cell_type": "markdown",
      "source": "23",
      "metadata": {}
    },
    {
      "cell_type": "code",
      "source": "45",
      "metadata": {
        "trusted": true
      },
      "outputs": [],
      "execution_count": null
    },
    {
      "cell_type": "code",
      "source": "3.14",
      "metadata": {
        "trusted": true
      },
      "outputs": [],
      "execution_count": null
    },
    {
      "cell_type": "code",
      "source": "8 + 32",
      "metadata": {
        "trusted": true
      },
      "outputs": [],
      "execution_count": null
    },
    {
      "cell_type": "code",
      "source": "5*5",
      "metadata": {
        "trusted": true
      },
      "outputs": [],
      "execution_count": null
    },
    {
      "cell_type": "code",
      "source": "a=10\na/2\nprint(a)",
      "metadata": {
        "trusted": true
      },
      "outputs": [],
      "execution_count": null
    },
    {
      "cell_type": "markdown",
      "source": " ### \"#\" işareti ile başlayan satırlar işleme konmaz. Çoğunlukla açıklama yapmak için kullanılır",
      "metadata": {}
    },
    {
      "cell_type": "code",
      "source": "b = a + 5     #a'nın 5 fazlasını b'ye atadı\nprint(b)",
      "metadata": {
        "trusted": true
      },
      "outputs": [],
      "execution_count": null
    },
    {
      "cell_type": "code",
      "source": "c = a + b\nprint(c)",
      "metadata": {
        "trusted": true
      },
      "outputs": [],
      "execution_count": null
    },
    {
      "cell_type": "code",
      "source": "d = b / 0    #Sıfıra bölünme hatası",
      "metadata": {
        "trusted": true
      },
      "outputs": [],
      "execution_count": null
    },
    {
      "cell_type": "code",
      "source": "x = 21\nx = x + 1    #x'in değerini 1 arttır\nprint ( x )",
      "metadata": {
        "trusted": true
      },
      "outputs": [],
      "execution_count": null
    },
    {
      "cell_type": "code",
      "source": "x += 1      #x=x+1 ile aynı işi yapar\nprint(x)",
      "metadata": {
        "trusted": true
      },
      "outputs": [],
      "execution_count": null
    },
    {
      "cell_type": "code",
      "source": "x *= 2 \nprint(x)",
      "metadata": {
        "trusted": true
      },
      "outputs": [],
      "execution_count": null
    },
    {
      "cell_type": "code",
      "source": "x /= 3\nprint(x)",
      "metadata": {
        "trusted": true
      },
      "outputs": [],
      "execution_count": null
    },
    {
      "cell_type": "markdown",
      "source": "#### PYTHON HAFIZASI",
      "metadata": {}
    },
    {
      "cell_type": "code",
      "source": "100",
      "metadata": {
        "trusted": true
      },
      "outputs": [],
      "execution_count": null
    },
    {
      "cell_type": "code",
      "source": "_ #Altçizgi ( _ ) Pythonun hafızasındaki en son değeri tutar",
      "metadata": {
        "trusted": true
      },
      "outputs": [],
      "execution_count": null
    },
    {
      "cell_type": "code",
      "source": "_ + 50 #Enson değere 50 ekle",
      "metadata": {
        "trusted": true
      },
      "outputs": [],
      "execution_count": null
    },
    {
      "cell_type": "markdown",
      "source": "#### ÜS VE MOD",
      "metadata": {}
    },
    {
      "cell_type": "code",
      "source": "12*12",
      "metadata": {
        "trusted": true
      },
      "outputs": [],
      "execution_count": null
    },
    {
      "cell_type": "code",
      "source": "12**2 # Üs almak için ** kullanılır.",
      "metadata": {
        "trusted": true
      },
      "outputs": [],
      "execution_count": null
    },
    {
      "cell_type": "code",
      "source": "pow(12,2) # pow() fonksiyonu da üs almak için kullanılabilir",
      "metadata": {
        "trusted": true
      },
      "outputs": [],
      "execution_count": null
    },
    {
      "cell_type": "code",
      "source": "81**0.5 # 81**(1/2) ile aynı görevi yerine getirir.Karekökünü alır",
      "metadata": {
        "trusted": true
      },
      "outputs": [],
      "execution_count": null
    },
    {
      "cell_type": "code",
      "source": "pow(81,0.5) #",
      "metadata": {
        "trusted": true
      },
      "outputs": [],
      "execution_count": null
    },
    {
      "cell_type": "code",
      "source": "26 % 7 #26 nın 7 ye bölümünden kalanı verir.Mod.",
      "metadata": {
        "trusted": true
      },
      "outputs": [],
      "execution_count": null
    },
    {
      "cell_type": "code",
      "source": "pow(5,3,6) #pow(sayi1,sayi2,sayi3) sayı1 in sayi2.üssünü alır ve sayi3 e bölümünden kalanını",
      "metadata": {
        "trusted": true
      },
      "outputs": [],
      "execution_count": null
    },
    {
      "cell_type": "markdown",
      "source": "#### ÇOKLU DEĞİŞKENE DEĞER ATAMA",
      "metadata": {}
    },
    {
      "cell_type": "code",
      "source": "\nx=y=50 #Aynı değeri çoklu değişkenlere atama\n\nprint (x)\nprint (y)",
      "metadata": {
        "trusted": true
      },
      "outputs": [],
      "execution_count": null
    },
    {
      "cell_type": "code",
      "source": "x,y,z = 5,7,9 #farklı değeri çoklu değişkenlere atama\n\nprint (x)\nprint (y)",
      "metadata": {
        "trusted": true
      },
      "outputs": [],
      "execution_count": null
    },
    {
      "cell_type": "code",
      "source": "ocak = mart = mayıs = temmuz = ağustos = ekim = aralık = 31\nnisan = haziran = eylül = kasım = 30\nşubat = 2\n\nprint(eylül)",
      "metadata": {
        "trusted": true
      },
      "outputs": [],
      "execution_count": null
    },
    {
      "cell_type": "code",
      "source": "y1,y2,perf = 90,95,100\n\nprint (y1)\nprint (perf)",
      "metadata": {
        "trusted": true
      },
      "outputs": [],
      "execution_count": null
    },
    {
      "cell_type": "code",
      "source": "ort=(y1+y2+perf)/3\n\nprint ( ort )",
      "metadata": {
        "trusted": true
      },
      "outputs": [],
      "execution_count": null
    },
    {
      "cell_type": "markdown",
      "source": "#### DEĞİŞKEN TAKASI",
      "metadata": {}
    },
    {
      "cell_type": "code",
      "source": "oyuncu=\"Yavuz Turgul\"\nyonetmen=\"Şener Şen\"\noyuncu,yonetmen = yonetmen,oyuncu #değerleri yer değiş\n\nprint( oyuncu )",
      "metadata": {
        "trusted": true
      },
      "outputs": [],
      "execution_count": null
    },
    {
      "cell_type": "markdown",
      "source": "#### TYPE FONKSİYONU()\n###### type() fonksiyonu değişkenin veri tipini verir.",
      "metadata": {}
    },
    {
      "cell_type": "code",
      "source": "adi = \"Ova\"\na = 50\npi = 3.14\nharf = \"e\"\n\nprint(type(adi)) \nprint(type(a))\nprint(type(pi))\nprint(type(harf))",
      "metadata": {
        "trusted": true,
        "scrolled": true
      },
      "outputs": [],
      "execution_count": null
    },
    {
      "cell_type": "markdown",
      "source": "#### LEN FONKSİYONU() \n##### Değişkenin string değer uzunluğunu verir. Sadece string değerlerde çalışır",
      "metadata": {}
    },
    {
      "cell_type": "code",
      "source": "len(\"Ankara\")",
      "metadata": {
        "trusted": true
      },
      "outputs": [],
      "execution_count": null
    },
    {
      "cell_type": "code",
      "source": "sonuc=\"KALDI\"",
      "metadata": {
        "trusted": true
      },
      "outputs": [],
      "execution_count": 7
    },
    {
      "cell_type": "code",
      "source": "len (sonuc)",
      "metadata": {
        "trusted": true
      },
      "outputs": [],
      "execution_count": null
    },
    {
      "cell_type": "code",
      "source": "belge=\"YOK\"",
      "metadata": {
        "trusted": true
      },
      "outputs": [],
      "execution_count": null
    },
    {
      "cell_type": "code",
      "source": "len(sonuc)+len(belge)",
      "metadata": {
        "trusted": true
      },
      "outputs": [],
      "execution_count": null
    },
    {
      "cell_type": "code",
      "source": "type(sonuc)",
      "metadata": {
        "trusted": true
      },
      "outputs": [],
      "execution_count": null
    },
    {
      "cell_type": "code",
      "source": "type(len(sonuc))",
      "metadata": {
        "trusted": true
      },
      "outputs": [],
      "execution_count": null
    },
    {
      "cell_type": "markdown",
      "source": "#### MANTIKSAL VERİ TÜRLERİ\n",
      "metadata": {}
    },
    {
      "cell_type": "code",
      "source": "3<10",
      "metadata": {
        "trusted": true
      },
      "outputs": [],
      "execution_count": null
    },
    {
      "cell_type": "code",
      "source": "pi = 3.14",
      "metadata": {
        "trusted": true
      },
      "outputs": [],
      "execution_count": null
    },
    {
      "cell_type": "code",
      "source": "5 > pi",
      "metadata": {
        "trusted": true
      },
      "outputs": [],
      "execution_count": null
    },
    {
      "cell_type": "code",
      "source": "pi==3.14 # == Eşit (eşit mi?)",
      "metadata": {
        "trusted": true
      },
      "outputs": [],
      "execution_count": null
    },
    {
      "cell_type": "code",
      "source": "pi != 3 # != Eşit değil (Farklı mı?)",
      "metadata": {
        "trusted": true
      },
      "outputs": [],
      "execution_count": null
    },
    {
      "cell_type": "code",
      "source": "# ==\teşit mi ?\t",
      "metadata": {
        "trusted": true
      },
      "outputs": [],
      "execution_count": null
    },
    {
      "cell_type": "code",
      "source": "10 == 10    ",
      "metadata": {
        "trusted": true
      },
      "outputs": [],
      "execution_count": null
    },
    {
      "cell_type": "code",
      "source": "5 == 4",
      "metadata": {
        "trusted": true
      },
      "outputs": [],
      "execution_count": null
    },
    {
      "cell_type": "code",
      "source": "x = 5 \ny = 5\n\nx == y",
      "metadata": {
        "trusted": true
      },
      "outputs": [],
      "execution_count": null
    },
    {
      "cell_type": "code",
      "source": "#  !=\teşit değil mi?\t(Farklı mı? )\n10 != 9",
      "metadata": {
        "trusted": true
      },
      "outputs": [],
      "execution_count": null
    },
    {
      "cell_type": "code",
      "source": "# >\tBüyük mü ?\t",
      "metadata": {
        "trusted": true
      },
      "outputs": [],
      "execution_count": null
    },
    {
      "cell_type": "code",
      "source": "5 > 5",
      "metadata": {
        "trusted": true
      },
      "outputs": [],
      "execution_count": null
    },
    {
      "cell_type": "code",
      "source": "<\tKüçük mü ?\t",
      "metadata": {
        "trusted": true
      },
      "outputs": [],
      "execution_count": null
    },
    {
      "cell_type": "code",
      "source": "8 < 5",
      "metadata": {
        "trusted": true
      },
      "outputs": [],
      "execution_count": null
    },
    {
      "cell_type": "code",
      "source": "\n#  >=\tBüyük eşit mi ?\t\n",
      "metadata": {
        "trusted": true
      },
      "outputs": [],
      "execution_count": null
    },
    {
      "cell_type": "code",
      "source": "5 >= 5\t",
      "metadata": {
        "trusted": true
      },
      "outputs": [],
      "execution_count": null
    },
    {
      "cell_type": "code",
      "source": "#   <=\tKüçük eşit mi ?\t",
      "metadata": {
        "trusted": true
      },
      "outputs": [],
      "execution_count": null
    },
    {
      "cell_type": "code",
      "source": "5 <= 5\t",
      "metadata": {
        "trusted": true
      },
      "outputs": [],
      "execution_count": null
    },
    {
      "cell_type": "code",
      "source": "yer=\"Kuzguncuk\" #String bir karakter dizisidir",
      "metadata": {
        "trusted": true
      },
      "outputs": [],
      "execution_count": null
    },
    {
      "cell_type": "code",
      "source": "yer[3] #Dizinin 3.elemanı",
      "metadata": {
        "trusted": true
      },
      "outputs": [],
      "execution_count": null
    },
    {
      "cell_type": "code",
      "source": " yer[0] #Dizi eleman numarası 0 dan başlar",
      "metadata": {
        "trusted": true
      },
      "outputs": [],
      "execution_count": null
    },
    {
      "cell_type": "markdown",
      "source": "##### del() ile değişken silme",
      "metadata": {}
    },
    {
      "cell_type": "code",
      "source": "len = \"Nasılsın?\"   #fonksiyon, değişken adı olarak kullanıldı",
      "metadata": {
        "trusted": true
      },
      "outputs": [],
      "execution_count": 13
    },
    {
      "cell_type": "code",
      "source": "print(len)",
      "metadata": {
        "trusted": true
      },
      "outputs": [],
      "execution_count": null
    },
    {
      "cell_type": "code",
      "source": "len(\"Merhaba\") #artık fonksiyon olarak kullanılamıyor.",
      "metadata": {
        "trusted": true
      },
      "outputs": [],
      "execution_count": null
    },
    {
      "cell_type": "code",
      "source": "# Bu durumda len fonksiyonunun çalışabilmesi için aynı isimle oluşturulan değişkenin silinmesi gerekir",
      "metadata": {
        "trusted": true
      },
      "outputs": [],
      "execution_count": null
    },
    {
      "cell_type": "code",
      "source": "del (len)    # len isimli değişkeni sil",
      "metadata": {
        "trusted": true
      },
      "outputs": [],
      "execution_count": null
    },
    {
      "cell_type": "code",
      "source": "len (\"Merhaba\")  #şimdi yeniden fonksiyonu çalıştıralım",
      "metadata": {
        "trusted": true
      },
      "outputs": [],
      "execution_count": null
    },
    {
      "cell_type": "code",
      "source": "##### Bir örnek daha",
      "metadata": {
        "trusted": true
      },
      "outputs": [],
      "execution_count": null
    },
    {
      "cell_type": "code",
      "source": "type=\"Bilgisayar\" #fonksiyon, değişken adı olarak kullanıldı",
      "metadata": {
        "trusted": true
      },
      "outputs": [],
      "execution_count": null
    },
    {
      "cell_type": "code",
      "source": "type(ort) #artık fonksiyon olarak kullanılamıyor",
      "metadata": {
        "trusted": true
      },
      "outputs": [],
      "execution_count": null
    },
    {
      "cell_type": "code",
      "source": "del (type) #değişkeni siliyoruz",
      "metadata": {
        "trusted": true
      },
      "outputs": [],
      "execution_count": null
    },
    {
      "cell_type": "code",
      "source": "type(ort) #type artık fonksiyon",
      "metadata": {
        "trusted": true
      },
      "outputs": [],
      "execution_count": null
    },
    {
      "cell_type": "code",
      "source": "ort = 90\nprint ( ort)",
      "metadata": {
        "trusted": true
      },
      "outputs": [],
      "execution_count": null
    },
    {
      "cell_type": "code",
      "source": "del (ort)\nprint(ort)",
      "metadata": {
        "trusted": true
      },
      "outputs": [],
      "execution_count": null
    },
    {
      "cell_type": "code",
      "source": "#TİP DÖNÜŞTÜRME",
      "metadata": {
        "trusted": true
      },
      "outputs": [],
      "execution_count": null
    },
    {
      "cell_type": "code",
      "source": "int(3.14) # 3.14 float sayısını bir alt tamsayı yapar (aşağı yuvarlar)",
      "metadata": {
        "trusted": true
      },
      "outputs": [],
      "execution_count": null
    },
    {
      "cell_type": "code",
      "source": "int(5.9)",
      "metadata": {
        "trusted": true
      },
      "outputs": [],
      "execution_count": null
    },
    {
      "cell_type": "code",
      "source": "str(36) # integer olan tam sayıyı stringe dönüştür",
      "metadata": {
        "trusted": true
      },
      "outputs": [],
      "execution_count": null
    },
    {
      "cell_type": "code",
      "source": "float(15) # Tam sayıyı, floata çevir",
      "metadata": {
        "trusted": true
      },
      "outputs": [],
      "execution_count": null
    },
    {
      "cell_type": "code",
      "source": "pi=3.14",
      "metadata": {
        "trusted": true
      },
      "outputs": [],
      "execution_count": null
    },
    {
      "cell_type": "code",
      "source": "int(pi) #float olan pi değerini tam sayıya (integer) dönüştür.",
      "metadata": {
        "trusted": true
      },
      "outputs": [],
      "execution_count": null
    },
    {
      "cell_type": "markdown",
      "source": "#### round () fonksiyonu ile sayı yuvarlama",
      "metadata": {}
    },
    {
      "cell_type": "code",
      "source": "round(2.3) #round() yuvarla fonksiyonudur",
      "metadata": {
        "trusted": true
      },
      "outputs": [],
      "execution_count": null
    },
    {
      "cell_type": "code",
      "source": "round(2.8) #Ondalıklı kısım 5'ten büyükse üst sayıya yuvarlar",
      "metadata": {
        "trusted": true
      },
      "outputs": [],
      "execution_count": null
    },
    {
      "cell_type": "code",
      "source": "round(2.4912,1) #Ondalıklı kısmı 1 basamak yazar",
      "metadata": {
        "trusted": true
      },
      "outputs": [],
      "execution_count": null
    },
    {
      "cell_type": "code",
      "source": "round(2.421,2) #Ondalıklı kısmı 2 basamak yaz",
      "metadata": {
        "trusted": true
      },
      "outputs": [],
      "execution_count": null
    },
    {
      "cell_type": "markdown",
      "source": "#### METİNLERLE ÇALIŞMA",
      "metadata": {}
    },
    {
      "cell_type": "code",
      "source": "İstanbul #İstanbul isminde değişken tanımlanmadı",
      "metadata": {
        "trusted": true
      },
      "outputs": [],
      "execution_count": null
    },
    {
      "cell_type": "code",
      "source": "adi=\"Kemal\"  #adi isminde bir değişken tanımlandı ve değer atandı\nsoyadi=\"Sunal\"\nprint( adi)",
      "metadata": {
        "trusted": true
      },
      "outputs": [],
      "execution_count": null
    },
    {
      "cell_type": "code",
      "source": "adiSoyadi = adi + soyadi    #adi ve soyadi değişkenleri birleştirildi ama boşluksuz\nprint (adiSoyadi)",
      "metadata": {
        "trusted": true
      },
      "outputs": [],
      "execution_count": null
    },
    {
      "cell_type": "code",
      "source": "adiSoyadi=adi+\" \"+soyadi\nprint (adiSoyadi)",
      "metadata": {
        "trusted": true
      },
      "outputs": [],
      "execution_count": null
    },
    {
      "cell_type": "code",
      "source": "print(\"Ahmet\" + \" \" + \"Hamdi\" + \" \" +  \"TANPINAR\")  #bu şekilde de metin birleştirme yapılabilir",
      "metadata": {
        "trusted": true
      },
      "outputs": [],
      "execution_count": null
    },
    {
      "cell_type": "code",
      "source": "print( \"Oğuz\"+\"ATAY\" )",
      "metadata": {
        "trusted": true
      },
      "outputs": [],
      "execution_count": null
    },
    {
      "cell_type": "code",
      "source": "print ( 4+9 )",
      "metadata": {
        "trusted": true
      },
      "outputs": [],
      "execution_count": null
    },
    {
      "cell_type": "code",
      "source": "print ( 4+\"Oğuz\" )   # Matematiksel işlemler sadece sayısal değerlerde yapılabilir.",
      "metadata": {
        "trusted": true
      },
      "outputs": [],
      "execution_count": null
    },
    {
      "cell_type": "code",
      "source": "print (45+\"55\")   # İnterger ile String toplanamaz",
      "metadata": {
        "trusted": true
      },
      "outputs": [],
      "execution_count": null
    },
    {
      "cell_type": "code",
      "source": "print ( \"45\"+\"55\" )   # Tırnak içinde girilen değerler String olarak işlem görür",
      "metadata": {
        "trusted": true
      },
      "outputs": [],
      "execution_count": null
    },
    {
      "cell_type": "code",
      "source": "print ( \"Metin\"*5 )   # Belirtilen stringi 5 kere yaz",
      "metadata": {
        "trusted": true
      },
      "outputs": [],
      "execution_count": null
    },
    {
      "cell_type": "code",
      "source": "print ( \"=\" * 30 )",
      "metadata": {
        "trusted": true
      },
      "outputs": [],
      "execution_count": null
    },
    {
      "cell_type": "markdown",
      "source": "##### * oparetörünün metinlerle kullanımı",
      "metadata": {}
    },
    {
      "cell_type": "code",
      "source": "print(*\"Çanakkale\") ",
      "metadata": {
        "trusted": true
      },
      "outputs": [],
      "execution_count": null
    },
    {
      "cell_type": "code",
      "source": "print(*\"Çanakkale\")  #Karakterlere ayırır ve araya boşluk ekler",
      "metadata": {
        "trusted": true
      },
      "outputs": [],
      "execution_count": null
    },
    {
      "cell_type": "code",
      "source": "print(*\"Çanakkale\",sep=\"-\")",
      "metadata": {
        "trusted": true
      },
      "outputs": [],
      "execution_count": null
    },
    {
      "cell_type": "markdown",
      "source": "### print () fonksiyonu kullanımı",
      "metadata": {}
    },
    {
      "cell_type": "markdown",
      "source": " ##### \"#\" işareti ile başlayan satırlar işleme konmaz. Çoğunlukla açıklama yapmak için kullanılır",
      "metadata": {}
    },
    {
      "cell_type": "code",
      "source": "print(\"Merhaba Dünya\") #Tırnak içindeki mesajı ekrana yazar",
      "metadata": {
        "trusted": true
      },
      "outputs": [],
      "execution_count": null
    },
    {
      "cell_type": "code",
      "source": "print('Merhaba Dünya') #Çift tırnak ile tek tırnak aynı işi görür",
      "metadata": {
        "trusted": true
      },
      "outputs": [],
      "execution_count": null
    },
    {
      "cell_type": "code",
      "source": "print('''Merhaba Dünya''') # Üç tırnak da kullanılabilir :)",
      "metadata": {
        "trusted": true
      },
      "outputs": [],
      "execution_count": null
    },
    {
      "cell_type": "code",
      "source": "# 3 tırnak genellikle çoklu satır yazmak için kullanılır.\n\nprint(''' MENÜ\n        ----------------------\n        1 - PARA ÇEKME\n        2-  PARA YATIRMA\n        3-  BAKİYE GÖRÜNTÜLE\n        4-  PARA AKTAR\n        5-  ÇIKIŞ \n        ----------------------\n        ''')",
      "metadata": {
        "trusted": true
      },
      "outputs": [],
      "execution_count": null
    },
    {
      "cell_type": "code",
      "source": "print(\"Python programlama dilinin adı \"piton\" yılanından gelmez\") #Hata verir. Çift tırnak",
      "metadata": {
        "trusted": true
      },
      "outputs": [],
      "execution_count": null
    },
    {
      "cell_type": "code",
      "source": "# Bu hatayı şu şekilde çözebiliriz",
      "metadata": {
        "trusted": true
      },
      "outputs": [],
      "execution_count": null
    },
    {
      "cell_type": "code",
      "source": "print('Python programlama dilinin adı \"piton\" yılanından gelmez') # Tek tırnak ile başlayarak",
      "metadata": {
        "trusted": true
      },
      "outputs": [],
      "execution_count": null
    },
    {
      "cell_type": "code",
      "source": "print('İstanbul'un 5 günlük hava durumu tahmini') # Hata verir",
      "metadata": {
        "trusted": true
      },
      "outputs": [],
      "execution_count": null
    },
    {
      "cell_type": "code",
      "source": "#ÇÖZÜM:\n print(\"İstanbul'un 5 günlük hava durumu tahmini\")",
      "metadata": {
        "trusted": true
      },
      "outputs": [],
      "execution_count": null
    },
    {
      "cell_type": "code",
      "source": " # Aşağıdaki örnekte Hem tek tırnak, hem de çift tırnak kullanılmış",
      "metadata": {
        "trusted": true
      },
      "outputs": [],
      "execution_count": 10
    },
    {
      "cell_type": "code",
      "source": "print(\"O an Atatürk'ün \"Ne mutlu Türküm diyene\" sözü gelir\")  ",
      "metadata": {
        "trusted": true
      },
      "outputs": [],
      "execution_count": null
    },
    {
      "cell_type": "markdown",
      "source": "### \\ (ters taksim) kaçış operatörü",
      "metadata": {}
    },
    {
      "cell_type": "code",
      "source": "print('Yarın Adana'ya gidiyorum.') #Hata",
      "metadata": {
        "trusted": true
      },
      "outputs": [],
      "execution_count": null
    },
    {
      "cell_type": "code",
      "source": "print('Yarın Adana\\'ya gidiyorum.') #Hata giderildi",
      "metadata": {
        "trusted": true
      },
      "outputs": [],
      "execution_count": null
    },
    {
      "cell_type": "code",
      "source": "print(\" \"book\" kelimesi Türkçede \"kitap\" anlamına gelir.\") #Hatalı",
      "metadata": {
        "trusted": true
      },
      "outputs": [],
      "execution_count": null
    },
    {
      "cell_type": "code",
      "source": "print(\"\\\"book\\\" kelimesi Türkçede \\\"kitap\\\" anlamına gelir.\")",
      "metadata": {
        "trusted": true
      },
      "outputs": [],
      "execution_count": null
    },
    {
      "cell_type": "code",
      "source": "#ya da daha kolayı şu: üç tırnak kullanımı\n\nprint(\"\"\"Python programlama dilinin adı \"piton\" yılanından gelmez\"\"\") #doğru kullanım\n\nprint(\"\"\"İstanbul'un 5 günlük hava durumu tahmini\"\"\") #doğru kullanım\n\nprint(''' O an Atatürk'ün \"Ne mutlu Türküm diyene\" sözü gelir ''')",
      "metadata": {
        "trusted": true
      },
      "outputs": [],
      "execution_count": null
    },
    {
      "cell_type": "code",
      "source": "print('Sabahattin', 'Ali') # Araya boşluk koyarak kelimeleri yazar",
      "metadata": {
        "trusted": true
      },
      "outputs": [],
      "execution_count": null
    },
    {
      "cell_type": "code",
      "source": " print('Peyami', 'Safa', 'İstanbul', 1899)",
      "metadata": {
        "trusted": true
      },
      "outputs": [],
      "execution_count": null
    },
    {
      "cell_type": "markdown",
      "source": "#### sep parametresi kullanımı ",
      "metadata": {}
    },
    {
      "cell_type": "code",
      "source": "print(\"http://\", \"www.\", \"istihza.\", \"com\") # Araya boşluk koyar",
      "metadata": {
        "trusted": true
      },
      "outputs": [],
      "execution_count": null
    },
    {
      "cell_type": "code",
      "source": "print(\"http://\", \"www.\", \"istihza.\", \"com\",sep=\"\") #sep parametresi ile boşluklar kalkıyor",
      "metadata": {
        "trusted": true
      },
      "outputs": [],
      "execution_count": null
    },
    {
      "cell_type": "code",
      "source": "print(\"www\",\"okul\",\"meb\",\"k12\",\"tr\",sep=\".\")",
      "metadata": {
        "trusted": true
      },
      "outputs": [],
      "execution_count": null
    },
    {
      "cell_type": "code",
      "source": "print(\"www\",\"okul\",\"meb\",\"k12\",\"tr\",sep=\".\") #sep ile aralara nokta işareti koyalım",
      "metadata": {
        "trusted": true
      },
      "outputs": [],
      "execution_count": null
    },
    {
      "cell_type": "code",
      "source": "print(1,2,3,4,5,6,sep=\" para \")",
      "metadata": {
        "trusted": true
      },
      "outputs": [],
      "execution_count": null
    },
    {
      "cell_type": "code",
      "source": "#6' dan sonra da para yazması için end parametresi kullanılmalı. end sadece en sona ekleme yapar",
      "metadata": {
        "trusted": true
      },
      "outputs": [],
      "execution_count": null
    },
    {
      "cell_type": "markdown",
      "source": "#### end parametresi",
      "metadata": {}
    },
    {
      "cell_type": "code",
      "source": "print(1,2,3,4,5,6, end=\" para\") #sadece en sona ekleme yapar",
      "metadata": {
        "trusted": true
      },
      "outputs": [],
      "execution_count": null
    },
    {
      "cell_type": "code",
      "source": "print(1,2,3,4,5,6,sep=\" para \", end=\" para\")",
      "metadata": {
        "trusted": true
      },
      "outputs": [],
      "execution_count": null
    },
    {
      "cell_type": "markdown",
      "source": "#### \\n ile yeni satır oluşturma (new line)",
      "metadata": {}
    },
    {
      "cell_type": "code",
      "source": "print(\"Taş Kağıt Makas\")     #tek satırda yazar",
      "metadata": {
        "trusted": true
      },
      "outputs": [],
      "execution_count": null
    },
    {
      "cell_type": "code",
      "source": "print(\"Taş \\nKağıt \\nMakas\")  # \\n gördüğü yerde yeni satıra geçer",
      "metadata": {
        "trusted": true
      },
      "outputs": [],
      "execution_count": null
    },
    {
      "cell_type": "code",
      "source": "print(\"birinci satır ikinci satır üçüncü satır\")",
      "metadata": {
        "trusted": true
      },
      "outputs": [],
      "execution_count": null
    },
    {
      "cell_type": "code",
      "source": "print(\"birinci satır \\nikinci satır \\nüçüncü satır\")",
      "metadata": {
        "trusted": true
      },
      "outputs": [],
      "execution_count": null
    },
    {
      "cell_type": "markdown",
      "source": "#### \\t sekme oluşturma",
      "metadata": {}
    },
    {
      "cell_type": "code",
      "source": "print(\"abc\\tdef\")",
      "metadata": {
        "trusted": true
      },
      "outputs": [],
      "execution_count": null
    },
    {
      "cell_type": "code",
      "source": "print(\"bir\", \"iki\", \"üç\", sep=\"\\t\")",
      "metadata": {
        "trusted": true
      },
      "outputs": [],
      "execution_count": null
    },
    {
      "cell_type": "code",
      "source": "print(\"\"\"\n        ADI     : Ali\n        SOYADI  : GÜN\n        TEL     : 533 222 11 00\n        \"\"\")",
      "metadata": {
        "trusted": true
      },
      "outputs": [],
      "execution_count": null
    },
    {
      "cell_type": "code",
      "source": "print(\"\"\"\n        ADI\\t\\t: Ali\n        SOYADI\\t\\t: GÜN\n        TEL\\t\\t: 533 222 11 00\n        \"\"\")",
      "metadata": {
        "trusted": true
      },
      "outputs": [],
      "execution_count": null
    },
    {
      "cell_type": "code",
      "source": "",
      "metadata": {
        "trusted": true
      },
      "outputs": [],
      "execution_count": null
    }
  ]
}
